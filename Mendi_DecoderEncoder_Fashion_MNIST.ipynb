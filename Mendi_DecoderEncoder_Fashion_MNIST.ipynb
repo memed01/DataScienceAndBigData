{
  "nbformat": 4,
  "nbformat_minor": 0,
  "metadata": {
    "colab": {
      "name": "Mendi_DecoderEncoder_Fashion_MNIST.ipynb",
      "provenance": [],
      "collapsed_sections": [],
      "include_colab_link": true
    },
    "kernelspec": {
      "name": "python3",
      "display_name": "Python 3"
    },
    "accelerator": "GPU"
  },
  "cells": [
    {
      "cell_type": "markdown",
      "metadata": {
        "id": "view-in-github",
        "colab_type": "text"
      },
      "source": [
        "<a href=\"https://colab.research.google.com/github/memed01/DataScienceAndBigData/blob/master/Mendi_DecoderEncoder_Fashion_MNIST.ipynb\" target=\"_parent\"><img src=\"https://colab.research.google.com/assets/colab-badge.svg\" alt=\"Open In Colab\"/></a>"
      ]
    },
    {
      "cell_type": "markdown",
      "metadata": {
        "id": "jtwFm0rdA1I5",
        "colab_type": "text"
      },
      "source": [
        "# Train an autoencoder and use it to initialize a neural network\n",
        "\n",
        "Fill in the missing code (autoencoder).\n",
        "\n",
        "Train the autoencoder on the full unlabeled data.\n",
        "\n",
        "Initialize a neural network with the `encoder` of the autoencoder.\n",
        "\n",
        "Train the neural network on a reduced dataset."
      ]
    },
    {
      "cell_type": "code",
      "metadata": {
        "id": "WEkPVn1UTjJx",
        "colab_type": "code",
        "colab": {}
      },
      "source": [
        "import tensorflow as tf\n",
        "#from keras.datasets import fashion_mnist\n",
        "#from tf.keras.layers import Input, Dense, Reshape, Flatten, Dropout\n",
        "#from keras.layers import BatchNormalization, Activation\n",
        "#from keras.layers.advanced_activations import LeakyReLU\n",
        "#from keras.models import Sequential, Model\n",
        "#from keras.optimizers import Adam\n",
        "import matplotlib.pyplot as plt\n",
        "import sys\n",
        "import numpy as np"
      ],
      "execution_count": 0,
      "outputs": []
    },
    {
      "cell_type": "markdown",
      "metadata": {
        "id": "Wpoky93tTm3Y",
        "colab_type": "text"
      },
      "source": [
        "Loading Fashion MNIST"
      ]
    },
    {
      "cell_type": "code",
      "metadata": {
        "id": "VpKAy8DTTl1t",
        "colab_type": "code",
        "colab": {}
      },
      "source": [
        "(X_train_full, y_train_full), (X_test, y_test) = tf.keras.datasets.fashion_mnist.load_data()\n",
        "X_train_full = X_train_full.astype(np.float32) / 255\n",
        "X_test = X_test.astype(np.float32) / 255\n",
        "X_train, X_valid = X_train_full[:-5000], X_train_full[-5000:]\n",
        "y_train, y_valid = y_train_full[:-5000], y_train_full[-5000:]"
      ],
      "execution_count": 0,
      "outputs": []
    },
    {
      "cell_type": "code",
      "metadata": {
        "id": "FUzglgzlHAIl",
        "colab_type": "code",
        "outputId": "838938ad-51e9-41c2-d573-28b82e2c9217",
        "colab": {
          "base_uri": "https://localhost:8080/",
          "height": 34
        }
      },
      "source": [
        "X_train.shape, y_train.shape"
      ],
      "execution_count": 0,
      "outputs": [
        {
          "output_type": "execute_result",
          "data": {
            "text/plain": [
              "((55000, 28, 28), (55000,))"
            ]
          },
          "metadata": {
            "tags": []
          },
          "execution_count": 15
        }
      ]
    },
    {
      "cell_type": "markdown",
      "metadata": {
        "id": "tCMnYdQaKxCE",
        "colab_type": "text"
      },
      "source": [
        "**Data Preprocessing**\n",
        "The images of the dataset are indeed grayscale images with pixel values ranging from 0 to 255 with a dimension of 28 x 28, so before we feed the data into the model, it is very important to preprocess it. You'll first convert each 28 x 28 image of train and test set into a matrix of size 28 x 28 x 1, which you can feed into the network:"
      ]
    },
    {
      "cell_type": "code",
      "metadata": {
        "id": "TrYbRN4IJxs7",
        "colab_type": "code",
        "outputId": "ece6f7ff-6e4e-44c5-ebb1-252236b027f7",
        "colab": {
          "base_uri": "https://localhost:8080/",
          "height": 118
        }
      },
      "source": [
        "# Image attributes\n",
        "num_classes = 10\n",
        "im_rows, im_cols= 28, 28\n",
        "im_depth = 1\n",
        "im_shape = (im_rows, im_cols, im_depth)\n",
        "\n",
        "# Reshape the data\n",
        "\n",
        "X_train = X_train.reshape(-1, im_rows, im_cols, im_depth)\n",
        "X_valid = X_valid.reshape(-1, im_rows, im_cols, im_depth)\n",
        "X_test = X_test.reshape(-1, im_rows, im_cols, im_depth)\n",
        "\n",
        "# Validate the shape\n",
        "\n",
        "print('X_train: {}'.format(X_train.shape))\n",
        "print('y_train: {}'.format(y_train.shape))\n",
        "\n",
        "print('X_valid: {}'.format(X_valid.shape))\n",
        "print('y_valid: {}'.format(y_valid.shape))\n",
        "\n",
        "print('X_test: {}'.format(X_test.shape))\n",
        "print('y_test: {}'.format(y_test.shape))"
      ],
      "execution_count": 0,
      "outputs": [
        {
          "output_type": "stream",
          "text": [
            "X_train: (55000, 28, 28, 1)\n",
            "y_train: (55000,)\n",
            "X_valid: (5000, 28, 28, 1)\n",
            "y_valid: (5000,)\n",
            "X_test: (10000, 28, 28, 1)\n",
            "y_test: (10000,)\n"
          ],
          "name": "stdout"
        }
      ]
    },
    {
      "cell_type": "code",
      "metadata": {
        "id": "fVAhSpniLsfg",
        "colab_type": "code",
        "outputId": "225ac12b-4bc7-4b4a-eb44-99821b7c8a38",
        "colab": {
          "base_uri": "https://localhost:8080/",
          "height": 34
        }
      },
      "source": [
        "np.max(X_train), np.max(X_test),np.max(X_valid)"
      ],
      "execution_count": 0,
      "outputs": [
        {
          "output_type": "execute_result",
          "data": {
            "text/plain": [
              "(1.0, 1.0, 1.0)"
            ]
          },
          "metadata": {
            "tags": []
          },
          "execution_count": 17
        }
      ]
    },
    {
      "cell_type": "code",
      "metadata": {
        "id": "eXerqVPLTl4N",
        "colab_type": "code",
        "colab": {}
      },
      "source": [
        "def rounded_accuracy(y_true, y_pred):\n",
        "    return tf.keras.metrics.binary_accuracy(tf.round(y_true), tf.round(y_pred))"
      ],
      "execution_count": 0,
      "outputs": []
    },
    {
      "cell_type": "markdown",
      "metadata": {
        "id": "iUSfoYVBUgTy",
        "colab_type": "text"
      },
      "source": [
        "Let's create separate encoder and decoder functions since you will be using encoder weights later on for classification purpose!"
      ]
    },
    {
      "cell_type": "code",
      "metadata": {
        "id": "5OJyyCj6UxKG",
        "colab_type": "code",
        "colab": {}
      },
      "source": [
        "batch_size = 64\n",
        "epochs = 20\n",
        "input_img = tf.keras.layers.Input(im_shape)"
      ],
      "execution_count": 0,
      "outputs": []
    },
    {
      "cell_type": "code",
      "metadata": {
        "id": "9X0aVazSUucQ",
        "colab_type": "code",
        "colab": {}
      },
      "source": [
        "def encoder(input_img):\n",
        "    #encoder\n",
        "    #input = 28 x 28 x 1 (wide and thin)\n",
        "    conv1 = tf.keras.layers.Conv2D(32, (3, 3), activation='relu', padding='same')(input_img) #28 x 28 x 32\n",
        "    conv1 = tf.keras.layers.BatchNormalization()(conv1)\n",
        "    conv1 = tf.keras.layers.Conv2D(32, (3, 3), activation='relu', padding='same')(conv1)\n",
        "    conv1 = tf.keras.layers.BatchNormalization()(conv1)\n",
        "    pool1 = tf.keras.layers.MaxPooling2D(pool_size=(2, 2))(conv1) #14 x 14 x 32\n",
        "    drop1 = tf.keras.layers.Dropout(0.25)(pool1)\n",
        "    conv2 = tf.keras.layers.Conv2D(64, (3, 3), activation='relu', padding='same')(drop1) #14 x 14 x 64\n",
        "    conv2 = tf.keras.layers.BatchNormalization()(conv2)\n",
        "    conv2 = tf.keras.layers.Conv2D(64, (3, 3), activation='relu', padding='same')(conv2)\n",
        "    conv2 = tf.keras.layers.BatchNormalization()(conv2)\n",
        "    pool2 = tf.keras.layers.MaxPooling2D(pool_size=(2, 2))(conv2) #7 x 7 x 64\n",
        "    conv3 = tf.keras.layers.Conv2D(128, (3, 3), activation='relu', padding='same')(pool2) #7 x 7 x 128 (small and thick)\n",
        "    conv3 = tf.keras.layers.BatchNormalization()(conv3)\n",
        "    conv3 = tf.keras.layers.Conv2D(128, (3, 3), activation='relu', padding='same')(conv3)\n",
        "    conv3 = tf.keras.layers.BatchNormalization()(conv3)\n",
        "    drop3 = tf.keras.layers.Dropout(0.25)(conv3)\n",
        "    conv4 = tf.keras.layers.Conv2D(256, (3, 3), activation='relu', padding='same')(drop3) #7 x 7 x 256 (small and thick)\n",
        "    conv4 = tf.keras.layers.BatchNormalization()(conv4)\n",
        "    conv4 = tf.keras.layers.Conv2D(256, (3, 3), activation='relu', padding='same')(conv4)\n",
        "    conv4 = tf.keras.layers.BatchNormalization()(conv4)\n",
        "    return conv4\n",
        "\n",
        "def decoder(conv4):    \n",
        "    #decoder\n",
        "    conv5 = tf.keras.layers.Conv2D(128, (3, 3), activation='relu', padding='same')(conv4) #7 x 7 x 128\n",
        "    conv5 = tf.keras.layers.BatchNormalization()(conv5)\n",
        "    conv5 = tf.keras.layers.Conv2D(128, (3, 3), activation='relu', padding='same')(conv5)\n",
        "    conv5 = tf.keras.layers.BatchNormalization()(conv5)\n",
        "    drop6 = tf.keras.layers.Dropout(0.25)(conv5)\n",
        "    conv6 = tf.keras.layers.Conv2D(64, (3, 3), activation='relu', padding='same')(drop6) #7 x 7 x 64\n",
        "    conv6 = tf.keras.layers.BatchNormalization()(conv6)\n",
        "    conv6 = tf.keras.layers.Conv2D(64, (3, 3), activation='relu', padding='same')(conv6)\n",
        "    conv6 = tf.keras.layers.BatchNormalization()(conv6)\n",
        "    drop7 = tf.keras.layers.Dropout(0.25)(conv6)\n",
        "    up1 = tf.keras.layers.UpSampling2D((2,2))(drop7) #14 x 14 x 64\n",
        "    conv7 = tf.keras.layers.Conv2D(32, (3, 3), activation='relu', padding='same')(up1) # 14 x 14 x 32\n",
        "    conv7 = tf.keras.layers.BatchNormalization()(conv7)\n",
        "    conv7 = tf.keras.layers.Conv2D(32, (3, 3), activation='relu', padding='same')(conv7)\n",
        "    conv7 = tf.keras.layers.BatchNormalization()(conv7)\n",
        "    up2 = tf.keras.layers.UpSampling2D((2,2))(conv7) # 28 x 28 x 32\n",
        "    decoded = tf.keras.layers.Conv2D(1, (3, 3), activation='sigmoid', padding='same')(up2) # 28 x 28 x 1\n",
        "    return decoded"
      ],
      "execution_count": 0,
      "outputs": []
    },
    {
      "cell_type": "code",
      "metadata": {
        "id": "kwJctJXBhWUZ",
        "colab_type": "code",
        "outputId": "fb18f91b-2d14-44af-ad65-f3ed0140c62f",
        "colab": {
          "base_uri": "https://localhost:8080/",
          "height": 709
        }
      },
      "source": [
        "autoencoder = tf.keras.Model(input_img, decoder(encoder(input_img)))\n",
        "autoencoder.compile(loss='binary_crossentropy', optimizer = tf.keras.optimizers.SGD(learning_rate=0.1),metrics=[rounded_accuracy])\n",
        "history = autoencoder.fit(X_train, X_train, epochs=epochs,\n",
        "                           validation_data=[X_valid, X_valid])"
      ],
      "execution_count": 0,
      "outputs": [
        {
          "output_type": "stream",
          "text": [
            "Epoch 1/20\n",
            "1719/1719 [==============================] - 24s 14ms/step - loss: 0.3146 - rounded_accuracy: 0.9072 - val_loss: 0.0000e+00 - val_rounded_accuracy: 0.0000e+00\n",
            "Epoch 2/20\n",
            "1719/1719 [==============================] - 24s 14ms/step - loss: 0.2905 - rounded_accuracy: 0.9244 - val_loss: 0.0000e+00 - val_rounded_accuracy: 0.0000e+00\n",
            "Epoch 3/20\n",
            "1719/1719 [==============================] - 24s 14ms/step - loss: 0.2850 - rounded_accuracy: 0.9296 - val_loss: 0.0000e+00 - val_rounded_accuracy: 0.0000e+00\n",
            "Epoch 4/20\n",
            "1719/1719 [==============================] - 24s 14ms/step - loss: 0.2814 - rounded_accuracy: 0.9331 - val_loss: 0.0000e+00 - val_rounded_accuracy: 0.0000e+00\n",
            "Epoch 5/20\n",
            "1719/1719 [==============================] - 24s 14ms/step - loss: 0.2792 - rounded_accuracy: 0.9352 - val_loss: 0.0000e+00 - val_rounded_accuracy: 0.0000e+00\n",
            "Epoch 6/20\n",
            "1719/1719 [==============================] - 24s 14ms/step - loss: 0.2774 - rounded_accuracy: 0.9370 - val_loss: 0.0000e+00 - val_rounded_accuracy: 0.0000e+00\n",
            "Epoch 7/20\n",
            "1719/1719 [==============================] - 24s 14ms/step - loss: 0.2759 - rounded_accuracy: 0.9384 - val_loss: 0.0000e+00 - val_rounded_accuracy: 0.0000e+00\n",
            "Epoch 8/20\n",
            "1719/1719 [==============================] - 24s 14ms/step - loss: 0.2748 - rounded_accuracy: 0.9396 - val_loss: 0.0000e+00 - val_rounded_accuracy: 0.0000e+00\n",
            "Epoch 9/20\n",
            "1719/1719 [==============================] - 24s 14ms/step - loss: 0.2738 - rounded_accuracy: 0.9405 - val_loss: 0.0000e+00 - val_rounded_accuracy: 0.0000e+00\n",
            "Epoch 10/20\n",
            "1719/1719 [==============================] - 24s 14ms/step - loss: 0.2729 - rounded_accuracy: 0.9414 - val_loss: 0.0000e+00 - val_rounded_accuracy: 0.0000e+00\n",
            "Epoch 11/20\n",
            "1719/1719 [==============================] - 24s 14ms/step - loss: 0.2722 - rounded_accuracy: 0.9422 - val_loss: 0.0000e+00 - val_rounded_accuracy: 0.0000e+00\n",
            "Epoch 12/20\n",
            "1719/1719 [==============================] - 24s 14ms/step - loss: 0.2716 - rounded_accuracy: 0.9428 - val_loss: 0.0000e+00 - val_rounded_accuracy: 0.0000e+00\n",
            "Epoch 13/20\n",
            "1719/1719 [==============================] - 24s 14ms/step - loss: 0.2709 - rounded_accuracy: 0.9435 - val_loss: 0.0000e+00 - val_rounded_accuracy: 0.0000e+00\n",
            "Epoch 14/20\n",
            "1719/1719 [==============================] - 24s 14ms/step - loss: 0.2704 - rounded_accuracy: 0.9441 - val_loss: 0.0000e+00 - val_rounded_accuracy: 0.0000e+00\n",
            "Epoch 15/20\n",
            "1719/1719 [==============================] - 24s 14ms/step - loss: 0.2699 - rounded_accuracy: 0.9447 - val_loss: 0.0000e+00 - val_rounded_accuracy: 0.0000e+00\n",
            "Epoch 16/20\n",
            "1719/1719 [==============================] - 24s 14ms/step - loss: 0.2694 - rounded_accuracy: 0.9452 - val_loss: 0.0000e+00 - val_rounded_accuracy: 0.0000e+00\n",
            "Epoch 17/20\n",
            "1719/1719 [==============================] - 24s 14ms/step - loss: 0.2691 - rounded_accuracy: 0.9454 - val_loss: 0.0000e+00 - val_rounded_accuracy: 0.0000e+00\n",
            "Epoch 18/20\n",
            "1719/1719 [==============================] - 24s 14ms/step - loss: 0.2687 - rounded_accuracy: 0.9460 - val_loss: 0.0000e+00 - val_rounded_accuracy: 0.0000e+00\n",
            "Epoch 19/20\n",
            "1719/1719 [==============================] - 24s 14ms/step - loss: 0.2684 - rounded_accuracy: 0.9463 - val_loss: 0.0000e+00 - val_rounded_accuracy: 0.0000e+00\n",
            "Epoch 20/20\n",
            "1719/1719 [==============================] - 24s 14ms/step - loss: 0.2681 - rounded_accuracy: 0.9466 - val_loss: 0.0000e+00 - val_rounded_accuracy: 0.0000e+00\n"
          ],
          "name": "stdout"
        }
      ]
    },
    {
      "cell_type": "code",
      "metadata": {
        "id": "PQqIBfxiu1zd",
        "colab_type": "code",
        "outputId": "6674de69-a83e-43f2-e637-6798b1fb37da",
        "colab": {
          "base_uri": "https://localhost:8080/",
          "height": 281
        }
      },
      "source": [
        "loss = history.history['loss']\n",
        "val_loss = history.history['val_loss']\n",
        "epochs = range(20)\n",
        "plt.figure()\n",
        "plt.plot(epochs, loss, 'bo', label='Training loss')\n",
        "plt.plot(epochs, val_loss, 'b', label='Validation loss')\n",
        "plt.title('Training and validation loss')\n",
        "plt.legend()\n",
        "plt.show()"
      ],
      "execution_count": 0,
      "outputs": [
        {
          "output_type": "display_data",
          "data": {
            "image/png": "[encoded data removed]",
            "text/plain": [
              "<Figure size 432x288 with 1 Axes>"
            ]
          },
          "metadata": {
            "tags": []
          }
        }
      ]
    },
    {
      "cell_type": "code",
      "metadata": {
        "id": "EtZfNwEX8HFT",
        "colab_type": "code",
        "colab": {}
      },
      "source": [
        "autoencoder.save_weights('autoencoder.h5')"
      ],
      "execution_count": 0,
      "outputs": []
    },
    {
      "cell_type": "markdown",
      "metadata": {
        "id": "SYCe_KHc8jxm",
        "colab_type": "text"
      },
      "source": [
        "**Segmenting the fashion mnist images**\n",
        "\n",
        "Now we will use the trained autoencoder and will load the weights of the autoencoder we just now trained but only in the encoder part of the model.\n",
        "\n",
        "You will add a few dense or fully connected layers to the encoder to classify fashion mnist images.\n",
        "\n",
        "Let's first convert the labels into one-hot encoding vectors."
      ]
    },
    {
      "cell_type": "code",
      "metadata": {
        "id": "0l9kQ88c8XrW",
        "colab_type": "code",
        "outputId": "e333c730-1657-4f60-c2fd-1d5586e7cb53",
        "colab": {
          "base_uri": "https://localhost:8080/",
          "height": 50
        }
      },
      "source": [
        "# Change the labels from categorical to one-hot encoding\n",
        "train_Y_one_hot = tf.keras.utils.to_categorical(y_train_full)\n",
        "test_Y_one_hot = tf.keras.utils.to_categorical(y_test)\n",
        "\n",
        "# Display the change for category label using one-hot encoding\n",
        "print('Original label:', y_train[0])\n",
        "print('After conversion to one-hot:', train_Y_one_hot[0])"
      ],
      "execution_count": 0,
      "outputs": [
        {
          "output_type": "stream",
          "text": [
            "Original label: 9\n",
            "After conversion to one-hot: [0. 0. 0. 0. 0. 0. 0. 0. 0. 1.]\n"
          ],
          "name": "stdout"
        }
      ]
    },
    {
      "cell_type": "code",
      "metadata": {
        "id": "H03lvza0PyzC",
        "colab_type": "code",
        "colab": {}
      },
      "source": [
        "#X_train, X_valid = X_train_full[:-5000], X_train_full[-5000:]\n",
        "train_label,valid_label = train_Y_one_hot[:-5000], train_Y_one_hot[-5000:]"
      ],
      "execution_count": 0,
      "outputs": []
    },
    {
      "cell_type": "markdown",
      "metadata": {
        "id": "d-p4BSEVRsBZ",
        "colab_type": "text"
      },
      "source": [
        "you will be using the exact same encoder part as we used in the autoencoder architecture."
      ]
    },
    {
      "cell_type": "code",
      "metadata": {
        "id": "doGPbZfVR2YK",
        "colab_type": "code",
        "colab": {}
      },
      "source": [
        "def encoder(input_img):\n",
        "    #encoder\n",
        "    #input = 28 x 28 x 1 (wide and thin)\n",
        "    conv1 = tf.keras.layers.Conv2D(32, (3, 3), activation='relu', padding='same')(input_img) #28 x 28 x 32\n",
        "    conv1 = tf.keras.layers.BatchNormalization()(conv1)\n",
        "    conv1 = tf.keras.layers.Conv2D(32, (3, 3), activation='relu', padding='same')(conv1)\n",
        "    conv1 = tf.keras.layers.BatchNormalization()(conv1)\n",
        "    pool1 = tf.keras.layers.MaxPooling2D(pool_size=(2, 2))(conv1) #14 x 14 x 32\n",
        "    drop1 = tf.keras.layers.Dropout(0.25)(pool1)\n",
        "    conv2 = tf.keras.layers.Conv2D(64, (3, 3), activation='relu', padding='same')(drop1) #14 x 14 x 64\n",
        "    conv2 = tf.keras.layers.BatchNormalization()(conv2)\n",
        "    conv2 = tf.keras.layers.Conv2D(64, (3, 3), activation='relu', padding='same')(conv2)\n",
        "    conv2 = tf.keras.layers.BatchNormalization()(conv2)\n",
        "    pool2 = tf.keras.layers.MaxPooling2D(pool_size=(2, 2))(conv2) #7 x 7 x 64\n",
        "    conv3 = tf.keras.layers.Conv2D(128, (3, 3), activation='relu', padding='same')(pool2) #7 x 7 x 128 (small and thick)\n",
        "    conv3 = tf.keras.layers.BatchNormalization()(conv3)\n",
        "    conv3 = tf.keras.layers.Conv2D(128, (3, 3), activation='relu', padding='same')(conv3)\n",
        "    conv3 = tf.keras.layers.BatchNormalization()(conv3)\n",
        "    drop3 = tf.keras.layers.Dropout(0.25)(conv3)\n",
        "    conv4 = tf.keras.layers.Conv2D(256, (3, 3), activation='relu', padding='same')(drop3) #7 x 7 x 256 (small and thick)\n",
        "    conv4 = tf.keras.layers.BatchNormalization()(conv4)\n",
        "    conv4 = tf.keras.layers.Conv2D(256, (3, 3), activation='relu', padding='same')(conv4)\n",
        "    conv4 = tf.keras.layers.BatchNormalization()(conv4)\n",
        "    return conv4"
      ],
      "execution_count": 0,
      "outputs": []
    },
    {
      "cell_type": "markdown",
      "metadata": {
        "id": "QHsXLIS1SBin",
        "colab_type": "text"
      },
      "source": [
        "Let's define the fully connected layers that you will be stacking up with the encoder function.\n",
        "\n"
      ]
    },
    {
      "cell_type": "code",
      "metadata": {
        "id": "ySCuowczR-nW",
        "colab_type": "code",
        "colab": {}
      },
      "source": [
        "def fc(enco):\n",
        "    flat = tf.keras.layers.Flatten()(enco)\n",
        "    den = tf.keras.layers.Dense(128, activation='relu')(flat)\n",
        "    out = tf.keras.layers.Dense(num_classes, activation='softmax')(den)\n",
        "    return out"
      ],
      "execution_count": 0,
      "outputs": []
    },
    {
      "cell_type": "code",
      "metadata": {
        "id": "xi-iFawrWSLo",
        "colab_type": "code",
        "colab": {}
      },
      "source": [
        "encode = encoder(input_img)\n",
        "full_model = tf.keras.Model(input_img,fc(encode))"
      ],
      "execution_count": 0,
      "outputs": []
    },
    {
      "cell_type": "code",
      "metadata": {
        "id": "Dr8g5D6ZWZNO",
        "colab_type": "code",
        "colab": {}
      },
      "source": [
        "for l1,l2 in zip(full_model.layers[:19],autoencoder.layers[0:19]):\n",
        "    l1.set_weights(l2.get_weights())"
      ],
      "execution_count": 0,
      "outputs": []
    },
    {
      "cell_type": "markdown",
      "metadata": {
        "id": "_RcEgF3GWwX2",
        "colab_type": "text"
      },
      "source": [
        "Let's print first layer weights of both the models,in order to be sure whether the weights of the encoder part of the autoencoder are similar to the weights we loaded to the encoder function of the classification model "
      ]
    },
    {
      "cell_type": "code",
      "metadata": {
        "id": "DKudVqvOWtah",
        "colab_type": "code",
        "outputId": "5328894d-c73c-4062-ad8c-ad5c714c7ca1",
        "colab": {
          "base_uri": "https://localhost:8080/",
          "height": 168
        }
      },
      "source": [
        "autoencoder.get_weights()[0][1]-full_model.get_weights()[0][1]"
      ],
      "execution_count": 0,
      "outputs": [
        {
          "output_type": "execute_result",
          "data": {
            "text/plain": [
              "array([[[0., 0., 0., 0., 0., 0., 0., 0., 0., 0., 0., 0., 0., 0., 0., 0.,\n",
              "         0., 0., 0., 0., 0., 0., 0., 0., 0., 0., 0., 0., 0., 0., 0., 0.]],\n",
              "\n",
              "       [[0., 0., 0., 0., 0., 0., 0., 0., 0., 0., 0., 0., 0., 0., 0., 0.,\n",
              "         0., 0., 0., 0., 0., 0., 0., 0., 0., 0., 0., 0., 0., 0., 0., 0.]],\n",
              "\n",
              "       [[0., 0., 0., 0., 0., 0., 0., 0., 0., 0., 0., 0., 0., 0., 0., 0.,\n",
              "         0., 0., 0., 0., 0., 0., 0., 0., 0., 0., 0., 0., 0., 0., 0., 0.]]],\n",
              "      dtype=float32)"
            ]
          },
          "metadata": {
            "tags": []
          },
          "execution_count": 55
        }
      ]
    },
    {
      "cell_type": "markdown",
      "metadata": {
        "id": "QVX4Kur0ezhe",
        "colab_type": "text"
      },
      "source": [
        "Both the arrays look exactly similar. So, let's compile the model and start the training.\n",
        "\n",
        "Next, we will make the encoder part i.e.the first nineteen layers of the model trainable false. \n",
        "\n",
        "Since the encoder part is already trained, we do not need to train it. we will only be training the Fully Connected part."
      ]
    },
    {
      "cell_type": "code",
      "metadata": {
        "id": "acHub5ACfMzB",
        "colab_type": "code",
        "colab": {}
      },
      "source": [
        "for layer in full_model.layers[0:19]:\n",
        "    layer.trainable = False"
      ],
      "execution_count": 0,
      "outputs": []
    },
    {
      "cell_type": "markdown",
      "metadata": {
        "id": "Gc7v0SnRfYgD",
        "colab_type": "text"
      },
      "source": [
        "Let's compile the model!"
      ]
    },
    {
      "cell_type": "code",
      "metadata": {
        "id": "lSKb1rRYfVCP",
        "colab_type": "code",
        "colab": {}
      },
      "source": [
        "full_model.compile(loss=tf.keras.losses.categorical_crossentropy, optimizer=tf.keras.optimizers.Adam(),metrics=['accuracy'])"
      ],
      "execution_count": 0,
      "outputs": []
    },
    {
      "cell_type": "code",
      "metadata": {
        "id": "SzGmafw7fq5G",
        "colab_type": "code",
        "outputId": "2211fb2c-7bb2-4c0e-e5b1-95cb64cad6cd",
        "colab": {
          "base_uri": "https://localhost:8080/",
          "height": 958
        }
      },
      "source": [
        "full_model.summary()"
      ],
      "execution_count": 0,
      "outputs": [
        {
          "output_type": "stream",
          "text": [
            "Model: \"model_5\"\n",
            "_________________________________________________________________\n",
            "Layer (type)                 Output Shape              Param #   \n",
            "=================================================================\n",
            "input_1 (InputLayer)         [(None, 28, 28, 1)]       0         \n",
            "_________________________________________________________________\n",
            "conv2d_76 (Conv2D)           (None, 28, 28, 32)        320       \n",
            "_________________________________________________________________\n",
            "batch_normalization_70 (Batc (None, 28, 28, 32)        128       \n",
            "_________________________________________________________________\n",
            "conv2d_77 (Conv2D)           (None, 28, 28, 32)        9248      \n",
            "_________________________________________________________________\n",
            "batch_normalization_71 (Batc (None, 28, 28, 32)        128       \n",
            "_________________________________________________________________\n",
            "max_pooling2d_10 (MaxPooling (None, 14, 14, 32)        0         \n",
            "_________________________________________________________________\n",
            "dropout_4 (Dropout)          (None, 14, 14, 32)        0         \n",
            "_________________________________________________________________\n",
            "conv2d_78 (Conv2D)           (None, 14, 14, 64)        18496     \n",
            "_________________________________________________________________\n",
            "batch_normalization_72 (Batc (None, 14, 14, 64)        256       \n",
            "_________________________________________________________________\n",
            "conv2d_79 (Conv2D)           (None, 14, 14, 64)        36928     \n",
            "_________________________________________________________________\n",
            "batch_normalization_73 (Batc (None, 14, 14, 64)        256       \n",
            "_________________________________________________________________\n",
            "max_pooling2d_11 (MaxPooling (None, 7, 7, 64)          0         \n",
            "_________________________________________________________________\n",
            "conv2d_80 (Conv2D)           (None, 7, 7, 128)         73856     \n",
            "_________________________________________________________________\n",
            "batch_normalization_74 (Batc (None, 7, 7, 128)         512       \n",
            "_________________________________________________________________\n",
            "conv2d_81 (Conv2D)           (None, 7, 7, 128)         147584    \n",
            "_________________________________________________________________\n",
            "batch_normalization_75 (Batc (None, 7, 7, 128)         512       \n",
            "_________________________________________________________________\n",
            "dropout_5 (Dropout)          (None, 7, 7, 128)         0         \n",
            "_________________________________________________________________\n",
            "conv2d_82 (Conv2D)           (None, 7, 7, 256)         295168    \n",
            "_________________________________________________________________\n",
            "batch_normalization_76 (Batc (None, 7, 7, 256)         1024      \n",
            "_________________________________________________________________\n",
            "conv2d_83 (Conv2D)           (None, 7, 7, 256)         590080    \n",
            "_________________________________________________________________\n",
            "batch_normalization_77 (Batc (None, 7, 7, 256)         1024      \n",
            "_________________________________________________________________\n",
            "flatten (Flatten)            (None, 12544)             0         \n",
            "_________________________________________________________________\n",
            "dense_1 (Dense)              (None, 128)               1605760   \n",
            "_________________________________________________________________\n",
            "dense_2 (Dense)              (None, 10)                1290      \n",
            "=================================================================\n",
            "Total params: 2,782,570\n",
            "Trainable params: 2,197,642\n",
            "Non-trainable params: 584,928\n",
            "_________________________________________________________________\n"
          ],
          "name": "stdout"
        }
      ]
    },
    {
      "cell_type": "code",
      "metadata": {
        "id": "JD-tWRGGgjxH",
        "colab_type": "code",
        "outputId": "ace74476-1e92-4058-9448-88bf4da61319",
        "colab": {
          "base_uri": "https://localhost:8080/",
          "height": 689
        }
      },
      "source": [
        "classify_train = full_model.fit(X_train, train_label, batch_size=64,epochs=20,verbose=1,validation_data=(X_valid, valid_label))"
      ],
      "execution_count": 0,
      "outputs": [
        {
          "output_type": "stream",
          "text": [
            "Epoch 1/20\n",
            "860/860 [==============================] - 8s 9ms/step - loss: 0.4294 - accuracy: 0.8513 - val_loss: 0.3273 - val_accuracy: 0.8756\n",
            "Epoch 2/20\n",
            "860/860 [==============================] - 8s 9ms/step - loss: 0.3170 - accuracy: 0.8820 - val_loss: 0.2938 - val_accuracy: 0.8888\n",
            "Epoch 3/20\n",
            "860/860 [==============================] - 8s 9ms/step - loss: 0.2875 - accuracy: 0.8927 - val_loss: 0.2915 - val_accuracy: 0.8954\n",
            "Epoch 4/20\n",
            "860/860 [==============================] - 8s 9ms/step - loss: 0.2687 - accuracy: 0.8997 - val_loss: 0.2960 - val_accuracy: 0.8970\n",
            "Epoch 5/20\n",
            "860/860 [==============================] - 8s 9ms/step - loss: 0.2519 - accuracy: 0.9046 - val_loss: 0.3000 - val_accuracy: 0.8928\n",
            "Epoch 6/20\n",
            "860/860 [==============================] - 8s 9ms/step - loss: 0.2478 - accuracy: 0.9079 - val_loss: 0.2699 - val_accuracy: 0.9034\n",
            "Epoch 7/20\n",
            "860/860 [==============================] - 8s 9ms/step - loss: 0.2360 - accuracy: 0.9119 - val_loss: 0.2927 - val_accuracy: 0.8964\n",
            "Epoch 8/20\n",
            "860/860 [==============================] - 8s 9ms/step - loss: 0.2236 - accuracy: 0.9146 - val_loss: 0.2768 - val_accuracy: 0.8966\n",
            "Epoch 9/20\n",
            "860/860 [==============================] - 8s 9ms/step - loss: 0.2153 - accuracy: 0.9196 - val_loss: 0.2699 - val_accuracy: 0.9032\n",
            "Epoch 10/20\n",
            "860/860 [==============================] - 8s 9ms/step - loss: 0.2079 - accuracy: 0.9222 - val_loss: 0.2662 - val_accuracy: 0.9048\n",
            "Epoch 11/20\n",
            "860/860 [==============================] - 8s 9ms/step - loss: 0.2001 - accuracy: 0.9248 - val_loss: 0.2750 - val_accuracy: 0.9064\n",
            "Epoch 12/20\n",
            "860/860 [==============================] - 8s 9ms/step - loss: 0.1938 - accuracy: 0.9258 - val_loss: 0.2658 - val_accuracy: 0.9082\n",
            "Epoch 13/20\n",
            "860/860 [==============================] - 8s 9ms/step - loss: 0.1853 - accuracy: 0.9305 - val_loss: 0.2636 - val_accuracy: 0.9076\n",
            "Epoch 14/20\n",
            "860/860 [==============================] - 8s 9ms/step - loss: 0.1790 - accuracy: 0.9312 - val_loss: 0.2777 - val_accuracy: 0.9080\n",
            "Epoch 15/20\n",
            "860/860 [==============================] - 8s 9ms/step - loss: 0.1747 - accuracy: 0.9331 - val_loss: 0.2677 - val_accuracy: 0.9078\n",
            "Epoch 16/20\n",
            "860/860 [==============================] - 8s 9ms/step - loss: 0.1695 - accuracy: 0.9365 - val_loss: 0.2736 - val_accuracy: 0.9106\n",
            "Epoch 17/20\n",
            "860/860 [==============================] - 8s 9ms/step - loss: 0.1627 - accuracy: 0.9390 - val_loss: 0.2782 - val_accuracy: 0.9114\n",
            "Epoch 18/20\n",
            "860/860 [==============================] - 8s 9ms/step - loss: 0.1590 - accuracy: 0.9391 - val_loss: 0.2945 - val_accuracy: 0.9034\n",
            "Epoch 19/20\n",
            "860/860 [==============================] - 8s 9ms/step - loss: 0.1548 - accuracy: 0.9413 - val_loss: 0.2992 - val_accuracy: 0.9062\n",
            "Epoch 20/20\n",
            "860/860 [==============================] - 8s 9ms/step - loss: 0.1484 - accuracy: 0.9439 - val_loss: 0.3164 - val_accuracy: 0.9064\n"
          ],
          "name": "stdout"
        }
      ]
    },
    {
      "cell_type": "markdown",
      "metadata": {
        "id": "hxPGtslCiFze",
        "colab_type": "text"
      },
      "source": [
        "After just 20 epochs, and by observing the training accuracy and loss, you can say that the model did better job since the training accuracy is 94% and the validation accuracy is 90%"
      ]
    },
    {
      "cell_type": "code",
      "metadata": {
        "id": "EHQfWsc4i9MA",
        "colab_type": "code",
        "colab": {}
      },
      "source": [
        "#Let's save the classification model!\n",
        "full_model.save_weights('autoencoder_classification.h5')"
      ],
      "execution_count": 0,
      "outputs": []
    },
    {
      "cell_type": "markdown",
      "metadata": {
        "id": "k-ZAg-JPjVwi",
        "colab_type": "text"
      },
      "source": [
        "Let's us re-train the model by making the first nineteen layers trainable as True"
      ]
    },
    {
      "cell_type": "code",
      "metadata": {
        "id": "yYBxY-_jjHxj",
        "colab_type": "code",
        "colab": {}
      },
      "source": [
        "for layer in full_model.layers[0:19]:\n",
        "    layer.trainable = True"
      ],
      "execution_count": 0,
      "outputs": []
    },
    {
      "cell_type": "code",
      "metadata": {
        "id": "9eMzRHZRjgTP",
        "colab_type": "code",
        "colab": {}
      },
      "source": [
        "full_model.compile(loss=tf.keras.losses.categorical_crossentropy, optimizer=tf.keras.optimizers.Adam(),metrics=['accuracy'])"
      ],
      "execution_count": 0,
      "outputs": []
    },
    {
      "cell_type": "markdown",
      "metadata": {
        "id": "gjAwSXSIllq8",
        "colab_type": "text"
      },
      "source": [
        "Now let's train the entire model for one last time."
      ]
    },
    {
      "cell_type": "code",
      "metadata": {
        "id": "TWzf6o9gjPsk",
        "colab_type": "code",
        "outputId": "96404e96-d7cc-4f54-c32a-d54457d789a3",
        "colab": {
          "base_uri": "https://localhost:8080/",
          "height": 1000
        }
      },
      "source": [
        "classify_train = full_model.fit(X_train, train_label, batch_size=64,epochs=100,verbose=1,validation_data=(X_valid, valid_label))"
      ],
      "execution_count": 0,
      "outputs": [
        {
          "output_type": "stream",
          "text": [
            "Epoch 1/100\n",
            "860/860 [==============================] - 15s 17ms/step - loss: 0.2690 - accuracy: 0.9011 - val_loss: 0.2676 - val_accuracy: 0.9056\n",
            "Epoch 2/100\n",
            "860/860 [==============================] - 15s 17ms/step - loss: 0.2027 - accuracy: 0.9240 - val_loss: 0.2671 - val_accuracy: 0.9068\n",
            "Epoch 3/100\n",
            "860/860 [==============================] - 15s 17ms/step - loss: 0.1812 - accuracy: 0.9318 - val_loss: 0.2709 - val_accuracy: 0.9034\n",
            "Epoch 4/100\n",
            "860/860 [==============================] - 15s 17ms/step - loss: 0.1666 - accuracy: 0.9374 - val_loss: 0.2567 - val_accuracy: 0.9152\n",
            "Epoch 5/100\n",
            "860/860 [==============================] - 15s 17ms/step - loss: 0.1573 - accuracy: 0.9416 - val_loss: 0.2665 - val_accuracy: 0.9136\n",
            "Epoch 6/100\n",
            "860/860 [==============================] - 15s 17ms/step - loss: 0.1375 - accuracy: 0.9492 - val_loss: 0.2623 - val_accuracy: 0.9132\n",
            "Epoch 7/100\n",
            "860/860 [==============================] - 15s 17ms/step - loss: 0.1273 - accuracy: 0.9521 - val_loss: 0.2642 - val_accuracy: 0.9184\n",
            "Epoch 8/100\n",
            "860/860 [==============================] - 15s 17ms/step - loss: 0.1142 - accuracy: 0.9575 - val_loss: 0.2870 - val_accuracy: 0.9172\n",
            "Epoch 9/100\n",
            "860/860 [==============================] - 15s 17ms/step - loss: 0.1085 - accuracy: 0.9595 - val_loss: 0.2683 - val_accuracy: 0.9222\n",
            "Epoch 10/100\n",
            "860/860 [==============================] - 15s 17ms/step - loss: 0.0967 - accuracy: 0.9639 - val_loss: 0.2802 - val_accuracy: 0.9168\n",
            "Epoch 11/100\n",
            "860/860 [==============================] - 15s 17ms/step - loss: 0.0866 - accuracy: 0.9679 - val_loss: 0.2861 - val_accuracy: 0.9190\n",
            "Epoch 12/100\n",
            "860/860 [==============================] - 15s 17ms/step - loss: 0.0812 - accuracy: 0.9708 - val_loss: 0.2943 - val_accuracy: 0.9172\n",
            "Epoch 13/100\n",
            "860/860 [==============================] - 15s 17ms/step - loss: 0.0730 - accuracy: 0.9734 - val_loss: 0.3024 - val_accuracy: 0.9200\n",
            "Epoch 14/100\n",
            "860/860 [==============================] - 15s 17ms/step - loss: 0.0661 - accuracy: 0.9755 - val_loss: 0.3235 - val_accuracy: 0.9200\n",
            "Epoch 15/100\n",
            "860/860 [==============================] - 15s 17ms/step - loss: 0.0598 - accuracy: 0.9776 - val_loss: 0.3289 - val_accuracy: 0.9248\n",
            "Epoch 16/100\n",
            "860/860 [==============================] - 15s 17ms/step - loss: 0.0547 - accuracy: 0.9797 - val_loss: 0.3298 - val_accuracy: 0.9194\n",
            "Epoch 17/100\n",
            "860/860 [==============================] - 14s 17ms/step - loss: 0.0531 - accuracy: 0.9803 - val_loss: 0.3496 - val_accuracy: 0.9174\n",
            "Epoch 18/100\n",
            "860/860 [==============================] - 15s 17ms/step - loss: 0.0440 - accuracy: 0.9833 - val_loss: 0.4743 - val_accuracy: 0.9054\n",
            "Epoch 19/100\n",
            "860/860 [==============================] - 15s 17ms/step - loss: 0.0437 - accuracy: 0.9839 - val_loss: 0.3898 - val_accuracy: 0.9172\n",
            "Epoch 20/100\n",
            "860/860 [==============================] - 15s 17ms/step - loss: 0.0424 - accuracy: 0.9843 - val_loss: 0.4267 - val_accuracy: 0.9170\n",
            "Epoch 21/100\n",
            "860/860 [==============================] - 15s 17ms/step - loss: 0.0362 - accuracy: 0.9871 - val_loss: 0.4311 - val_accuracy: 0.9198\n",
            "Epoch 22/100\n",
            "860/860 [==============================] - 15s 17ms/step - loss: 0.0353 - accuracy: 0.9870 - val_loss: 0.4390 - val_accuracy: 0.9154\n",
            "Epoch 23/100\n",
            "860/860 [==============================] - 15s 17ms/step - loss: 0.0354 - accuracy: 0.9869 - val_loss: 0.4018 - val_accuracy: 0.9184\n",
            "Epoch 24/100\n",
            "860/860 [==============================] - 15s 17ms/step - loss: 0.0332 - accuracy: 0.9882 - val_loss: 0.4301 - val_accuracy: 0.9192\n",
            "Epoch 25/100\n",
            "860/860 [==============================] - 15s 17ms/step - loss: 0.0302 - accuracy: 0.9891 - val_loss: 0.4185 - val_accuracy: 0.9242\n",
            "Epoch 26/100\n",
            "860/860 [==============================] - 15s 17ms/step - loss: 0.0289 - accuracy: 0.9899 - val_loss: 0.4082 - val_accuracy: 0.9280\n",
            "Epoch 27/100\n",
            "860/860 [==============================] - 15s 17ms/step - loss: 0.0294 - accuracy: 0.9901 - val_loss: 0.4437 - val_accuracy: 0.9212\n",
            "Epoch 28/100\n",
            "860/860 [==============================] - 15s 17ms/step - loss: 0.0246 - accuracy: 0.9915 - val_loss: 0.4934 - val_accuracy: 0.9216\n",
            "Epoch 29/100\n",
            "860/860 [==============================] - 15s 17ms/step - loss: 0.0287 - accuracy: 0.9901 - val_loss: 0.4368 - val_accuracy: 0.9252\n",
            "Epoch 30/100\n",
            "860/860 [==============================] - 15s 17ms/step - loss: 0.0266 - accuracy: 0.9905 - val_loss: 0.4633 - val_accuracy: 0.9132\n",
            "Epoch 31/100\n",
            "860/860 [==============================] - 15s 17ms/step - loss: 0.0236 - accuracy: 0.9923 - val_loss: 0.4578 - val_accuracy: 0.9204\n",
            "Epoch 32/100\n",
            "860/860 [==============================] - 14s 17ms/step - loss: 0.0211 - accuracy: 0.9926 - val_loss: 0.5152 - val_accuracy: 0.9216\n",
            "Epoch 33/100\n",
            "860/860 [==============================] - 15s 17ms/step - loss: 0.0216 - accuracy: 0.9923 - val_loss: 0.4838 - val_accuracy: 0.9190\n",
            "Epoch 34/100\n",
            "860/860 [==============================] - 15s 17ms/step - loss: 0.0204 - accuracy: 0.9928 - val_loss: 0.4503 - val_accuracy: 0.9266\n",
            "Epoch 35/100\n",
            "860/860 [==============================] - 15s 17ms/step - loss: 0.0246 - accuracy: 0.9915 - val_loss: 0.4731 - val_accuracy: 0.9220\n",
            "Epoch 36/100\n",
            "860/860 [==============================] - 15s 17ms/step - loss: 0.0223 - accuracy: 0.9922 - val_loss: 0.5078 - val_accuracy: 0.9218\n",
            "Epoch 37/100\n",
            "860/860 [==============================] - 15s 17ms/step - loss: 0.0164 - accuracy: 0.9941 - val_loss: 0.5092 - val_accuracy: 0.9216\n",
            "Epoch 38/100\n",
            "860/860 [==============================] - 15s 17ms/step - loss: 0.0204 - accuracy: 0.9933 - val_loss: 0.4707 - val_accuracy: 0.9272\n",
            "Epoch 39/100\n",
            "860/860 [==============================] - 15s 17ms/step - loss: 0.0191 - accuracy: 0.9934 - val_loss: 0.4778 - val_accuracy: 0.9250\n",
            "Epoch 40/100\n",
            "860/860 [==============================] - 15s 17ms/step - loss: 0.0176 - accuracy: 0.9940 - val_loss: 0.5007 - val_accuracy: 0.9260\n",
            "Epoch 41/100\n",
            "860/860 [==============================] - 15s 17ms/step - loss: 0.0176 - accuracy: 0.9941 - val_loss: 0.4540 - val_accuracy: 0.9230\n",
            "Epoch 42/100\n",
            "860/860 [==============================] - 15s 17ms/step - loss: 0.0175 - accuracy: 0.9940 - val_loss: 0.4634 - val_accuracy: 0.9260\n",
            "Epoch 43/100\n",
            "860/860 [==============================] - 15s 17ms/step - loss: 0.0192 - accuracy: 0.9937 - val_loss: 0.5585 - val_accuracy: 0.9186\n",
            "Epoch 44/100\n",
            "860/860 [==============================] - 15s 17ms/step - loss: 0.0149 - accuracy: 0.9947 - val_loss: 0.5584 - val_accuracy: 0.9250\n",
            "Epoch 45/100\n",
            "860/860 [==============================] - 15s 17ms/step - loss: 0.0170 - accuracy: 0.9947 - val_loss: 0.5257 - val_accuracy: 0.9206\n",
            "Epoch 46/100\n",
            "860/860 [==============================] - 15s 17ms/step - loss: 0.0171 - accuracy: 0.9942 - val_loss: 0.5214 - val_accuracy: 0.9220\n",
            "Epoch 47/100\n",
            "860/860 [==============================] - 15s 17ms/step - loss: 0.0154 - accuracy: 0.9952 - val_loss: 0.5549 - val_accuracy: 0.9230\n",
            "Epoch 48/100\n",
            "860/860 [==============================] - 15s 17ms/step - loss: 0.0154 - accuracy: 0.9948 - val_loss: 0.5992 - val_accuracy: 0.9214\n",
            "Epoch 49/100\n",
            "860/860 [==============================] - 15s 17ms/step - loss: 0.0145 - accuracy: 0.9951 - val_loss: 0.5461 - val_accuracy: 0.9230\n",
            "Epoch 50/100\n",
            "860/860 [==============================] - 15s 17ms/step - loss: 0.0155 - accuracy: 0.9949 - val_loss: 0.5036 - val_accuracy: 0.9242\n",
            "Epoch 51/100\n",
            "860/860 [==============================] - 15s 17ms/step - loss: 0.0133 - accuracy: 0.9957 - val_loss: 0.5471 - val_accuracy: 0.9258\n",
            "Epoch 52/100\n",
            "860/860 [==============================] - 14s 17ms/step - loss: 0.0151 - accuracy: 0.9949 - val_loss: 0.5476 - val_accuracy: 0.9278\n",
            "Epoch 53/100\n",
            "860/860 [==============================] - 15s 17ms/step - loss: 0.0152 - accuracy: 0.9950 - val_loss: 0.6167 - val_accuracy: 0.9254\n",
            "Epoch 54/100\n",
            "860/860 [==============================] - 14s 17ms/step - loss: 0.0167 - accuracy: 0.9947 - val_loss: 0.5148 - val_accuracy: 0.9238\n",
            "Epoch 55/100\n",
            "860/860 [==============================] - 15s 17ms/step - loss: 0.0114 - accuracy: 0.9961 - val_loss: 0.5795 - val_accuracy: 0.9230\n",
            "Epoch 56/100\n",
            "860/860 [==============================] - 15s 17ms/step - loss: 0.0139 - accuracy: 0.9955 - val_loss: 0.6445 - val_accuracy: 0.9222\n",
            "Epoch 57/100\n",
            "860/860 [==============================] - 15s 17ms/step - loss: 0.0133 - accuracy: 0.9955 - val_loss: 0.6207 - val_accuracy: 0.9208\n",
            "Epoch 58/100\n",
            "860/860 [==============================] - 15s 17ms/step - loss: 0.0116 - accuracy: 0.9961 - val_loss: 0.5796 - val_accuracy: 0.9212\n",
            "Epoch 59/100\n",
            "860/860 [==============================] - 15s 17ms/step - loss: 0.0130 - accuracy: 0.9958 - val_loss: 0.5906 - val_accuracy: 0.9218\n",
            "Epoch 60/100\n",
            "860/860 [==============================] - 15s 17ms/step - loss: 0.0150 - accuracy: 0.9952 - val_loss: 0.5783 - val_accuracy: 0.9222\n",
            "Epoch 61/100\n",
            "860/860 [==============================] - 15s 17ms/step - loss: 0.0119 - accuracy: 0.9961 - val_loss: 0.5141 - val_accuracy: 0.9252\n",
            "Epoch 62/100\n",
            "860/860 [==============================] - 15s 17ms/step - loss: 0.0109 - accuracy: 0.9963 - val_loss: 0.5065 - val_accuracy: 0.9288\n",
            "Epoch 63/100\n",
            "860/860 [==============================] - 15s 17ms/step - loss: 0.0155 - accuracy: 0.9950 - val_loss: 0.6145 - val_accuracy: 0.9202\n",
            "Epoch 64/100\n",
            "860/860 [==============================] - 15s 17ms/step - loss: 0.0100 - accuracy: 0.9965 - val_loss: 0.5782 - val_accuracy: 0.9300\n",
            "Epoch 65/100\n",
            "860/860 [==============================] - 15s 17ms/step - loss: 0.0111 - accuracy: 0.9963 - val_loss: 0.5921 - val_accuracy: 0.9222\n",
            "Epoch 66/100\n",
            "860/860 [==============================] - 15s 17ms/step - loss: 0.0108 - accuracy: 0.9964 - val_loss: 0.6975 - val_accuracy: 0.9198\n",
            "Epoch 67/100\n",
            "860/860 [==============================] - 15s 17ms/step - loss: 0.0122 - accuracy: 0.9960 - val_loss: 0.6390 - val_accuracy: 0.9204\n",
            "Epoch 68/100\n",
            "860/860 [==============================] - 15s 17ms/step - loss: 0.0126 - accuracy: 0.9957 - val_loss: 0.6107 - val_accuracy: 0.9202\n",
            "Epoch 69/100\n",
            "860/860 [==============================] - 15s 17ms/step - loss: 0.0114 - accuracy: 0.9964 - val_loss: 0.6455 - val_accuracy: 0.9230\n",
            "Epoch 70/100\n",
            "860/860 [==============================] - 15s 17ms/step - loss: 0.0148 - accuracy: 0.9951 - val_loss: 0.6153 - val_accuracy: 0.9256\n",
            "Epoch 71/100\n",
            "860/860 [==============================] - 15s 17ms/step - loss: 0.0100 - accuracy: 0.9965 - val_loss: 0.5626 - val_accuracy: 0.9274\n",
            "Epoch 72/100\n",
            "860/860 [==============================] - 14s 17ms/step - loss: 0.0091 - accuracy: 0.9971 - val_loss: 0.5819 - val_accuracy: 0.9276\n",
            "Epoch 73/100\n",
            "860/860 [==============================] - 14s 17ms/step - loss: 0.0083 - accuracy: 0.9974 - val_loss: 0.5393 - val_accuracy: 0.9210\n",
            "Epoch 74/100\n",
            "860/860 [==============================] - 14s 17ms/step - loss: 0.0106 - accuracy: 0.9965 - val_loss: 0.5833 - val_accuracy: 0.9242\n",
            "Epoch 75/100\n",
            "860/860 [==============================] - 14s 17ms/step - loss: 0.0096 - accuracy: 0.9969 - val_loss: 0.6223 - val_accuracy: 0.9200\n",
            "Epoch 76/100\n",
            "860/860 [==============================] - 14s 17ms/step - loss: 0.0126 - accuracy: 0.9958 - val_loss: 0.6576 - val_accuracy: 0.9260\n",
            "Epoch 77/100\n",
            "860/860 [==============================] - 14s 17ms/step - loss: 0.0108 - accuracy: 0.9965 - val_loss: 0.6437 - val_accuracy: 0.9234\n",
            "Epoch 78/100\n",
            "860/860 [==============================] - 14s 17ms/step - loss: 0.0083 - accuracy: 0.9973 - val_loss: 0.6705 - val_accuracy: 0.9232\n",
            "Epoch 79/100\n",
            "860/860 [==============================] - 14s 17ms/step - loss: 0.0102 - accuracy: 0.9968 - val_loss: 0.6212 - val_accuracy: 0.9250\n",
            "Epoch 80/100\n",
            "860/860 [==============================] - 14s 17ms/step - loss: 0.0123 - accuracy: 0.9960 - val_loss: 0.7192 - val_accuracy: 0.9240\n",
            "Epoch 81/100\n",
            "860/860 [==============================] - 14s 17ms/step - loss: 0.0100 - accuracy: 0.9967 - val_loss: 0.5043 - val_accuracy: 0.9214\n",
            "Epoch 82/100\n",
            "860/860 [==============================] - 14s 17ms/step - loss: 0.0102 - accuracy: 0.9966 - val_loss: 0.6056 - val_accuracy: 0.9230\n",
            "Epoch 83/100\n",
            "860/860 [==============================] - 14s 17ms/step - loss: 0.0091 - accuracy: 0.9971 - val_loss: 0.7158 - val_accuracy: 0.9210\n",
            "Epoch 84/100\n",
            "860/860 [==============================] - 14s 17ms/step - loss: 0.0092 - accuracy: 0.9970 - val_loss: 0.7002 - val_accuracy: 0.9220\n",
            "Epoch 85/100\n",
            "860/860 [==============================] - 15s 17ms/step - loss: 0.0091 - accuracy: 0.9970 - val_loss: 0.5931 - val_accuracy: 0.9282\n",
            "Epoch 86/100\n",
            "860/860 [==============================] - 14s 17ms/step - loss: 0.0082 - accuracy: 0.9974 - val_loss: 0.5733 - val_accuracy: 0.9214\n",
            "Epoch 87/100\n",
            "860/860 [==============================] - 14s 17ms/step - loss: 0.0088 - accuracy: 0.9973 - val_loss: 0.6101 - val_accuracy: 0.9268\n",
            "Epoch 88/100\n",
            "860/860 [==============================] - 14s 17ms/step - loss: 0.0106 - accuracy: 0.9967 - val_loss: 0.6421 - val_accuracy: 0.9280\n",
            "Epoch 89/100\n",
            "860/860 [==============================] - 14s 17ms/step - loss: 0.0085 - accuracy: 0.9975 - val_loss: 0.6682 - val_accuracy: 0.9250\n",
            "Epoch 90/100\n",
            "860/860 [==============================] - 14s 17ms/step - loss: 0.0108 - accuracy: 0.9967 - val_loss: 0.5705 - val_accuracy: 0.9298\n",
            "Epoch 91/100\n",
            "860/860 [==============================] - 14s 17ms/step - loss: 0.0081 - accuracy: 0.9974 - val_loss: 0.6915 - val_accuracy: 0.9270\n",
            "Epoch 92/100\n",
            "860/860 [==============================] - 14s 17ms/step - loss: 0.0088 - accuracy: 0.9974 - val_loss: 0.6580 - val_accuracy: 0.9284\n",
            "Epoch 93/100\n",
            "860/860 [==============================] - 14s 17ms/step - loss: 0.0095 - accuracy: 0.9969 - val_loss: 0.5935 - val_accuracy: 0.9244\n",
            "Epoch 94/100\n",
            "860/860 [==============================] - 14s 17ms/step - loss: 0.0107 - accuracy: 0.9971 - val_loss: 0.5676 - val_accuracy: 0.9282\n",
            "Epoch 95/100\n",
            "860/860 [==============================] - 14s 17ms/step - loss: 0.0084 - accuracy: 0.9973 - val_loss: 0.6112 - val_accuracy: 0.9234\n",
            "Epoch 96/100\n",
            "860/860 [==============================] - 14s 17ms/step - loss: 0.0071 - accuracy: 0.9977 - val_loss: 0.6953 - val_accuracy: 0.9212\n",
            "Epoch 97/100\n",
            "860/860 [==============================] - 14s 17ms/step - loss: 0.0109 - accuracy: 0.9969 - val_loss: 0.6711 - val_accuracy: 0.9244\n",
            "Epoch 98/100\n",
            "860/860 [==============================] - 14s 17ms/step - loss: 0.0072 - accuracy: 0.9977 - val_loss: 0.6518 - val_accuracy: 0.9266\n",
            "Epoch 99/100\n",
            "860/860 [==============================] - 14s 17ms/step - loss: 0.0047 - accuracy: 0.9986 - val_loss: 0.7161 - val_accuracy: 0.9214\n",
            "Epoch 100/100\n",
            "860/860 [==============================] - 14s 17ms/step - loss: 0.0105 - accuracy: 0.9971 - val_loss: 0.6785 - val_accuracy: 0.9226\n"
          ],
          "name": "stdout"
        }
      ]
    },
    {
      "cell_type": "markdown",
      "metadata": {
        "id": "J5B_A-AimKe-",
        "colab_type": "text"
      },
      "source": [
        "Let' us saved the model for the last time"
      ]
    },
    {
      "cell_type": "code",
      "metadata": {
        "id": "-PaWDVn9mSGf",
        "colab_type": "code",
        "colab": {}
      },
      "source": [
        "full_model.save_weights('classification_complete.h5')"
      ],
      "execution_count": 0,
      "outputs": []
    },
    {
      "cell_type": "markdown",
      "metadata": {
        "id": "NMAEa-v6lxOg",
        "colab_type": "text"
      },
      "source": [
        "Let's put your model evaluation into perspective and plot the accuracy and loss plots between training and validation data:"
      ]
    },
    {
      "cell_type": "code",
      "metadata": {
        "id": "ivzyf9mjmEjh",
        "colab_type": "code",
        "outputId": "976f9afa-9a48-4159-e678-a7dd53534428",
        "colab": {
          "base_uri": "https://localhost:8080/",
          "height": 545
        }
      },
      "source": [
        "accuracy = classify_train.history['accuracy']\n",
        "val_accuracy = classify_train.history['val_accuracy']\n",
        "loss = classify_train.history['loss']\n",
        "val_loss = classify_train.history['val_loss']\n",
        "epochs = range(len(accuracy))\n",
        "plt.plot(epochs, accuracy, 'bo', label='Training accuracy')\n",
        "plt.plot(epochs, val_accuracy, 'b', label='Validation accuracy')\n",
        "plt.title('Training and validation accuracy')\n",
        "plt.legend()\n",
        "plt.figure()\n",
        "plt.plot(epochs, loss, 'bo', label='Training loss')\n",
        "plt.plot(epochs, val_loss, 'b', label='Validation loss')\n",
        "plt.title('Training and validation loss')\n",
        "plt.legend()\n",
        "plt.show()"
      ],
      "execution_count": 0,
      "outputs": [
        {
          "output_type": "display_data",
          "data": {
            "image/png": "[encoded data removed]",
            "text/plain": [
              "<Figure size 432x288 with 1 Axes>"
            ]
          },
          "metadata": {
            "tags": []
          }
        },
        {
          "output_type": "display_data",
          "data": {
            "image/png": "[encoded data removed]",
            "text/plain": [
              "<Figure size 432x288 with 1 Axes>"
            ]
          },
          "metadata": {
            "tags": []
          }
        }
      ]
    },
    {
      "cell_type": "markdown",
      "metadata": {
        "id": "RJIWq8rEnJ4Z",
        "colab_type": "text"
      },
      "source": [
        "From the above two plots, we can see that the model is overfitting since there is a big gap between the training and validation loss. In order to address overfitting, you will have to add to Dropout other regularization techniques like [L2 Regulirazation](https://en.wikipedia.org/wiki/Regularization_(mathematics))."
      ]
    },
    {
      "cell_type": "markdown",
      "metadata": {
        "id": "JVi_WjVSrBNg",
        "colab_type": "text"
      },
      "source": [
        "**Model Evaluation on the Test Set**\n",
        "\n",
        "Let's evaluate your model on test data and see how it performs!"
      ]
    },
    {
      "cell_type": "code",
      "metadata": {
        "id": "o2O1q2XZnH2z",
        "colab_type": "code",
        "outputId": "938b9a61-859d-4f1c-8bd0-23d43a7100fb",
        "colab": {
          "base_uri": "https://localhost:8080/",
          "height": 50
        }
      },
      "source": [
        "test_eval = full_model.evaluate(X_test, test_Y_one_hot, verbose=0)\n",
        "print('Test loss:', test_eval[0])\n",
        "print('Test accuracy:', test_eval[1])"
      ],
      "execution_count": 0,
      "outputs": [
        {
          "output_type": "stream",
          "text": [
            "Test loss: 0.7071596384048462\n",
            "Test accuracy: 0.9286999702453613\n"
          ],
          "name": "stdout"
        }
      ]
    },
    {
      "cell_type": "markdown",
      "metadata": {
        "id": "xHG57TwHuMxE",
        "colab_type": "text"
      },
      "source": [
        "**Predict Labels**"
      ]
    },
    {
      "cell_type": "code",
      "metadata": {
        "id": "3fDoE_CiuXAc",
        "colab_type": "code",
        "colab": {}
      },
      "source": [
        "predicted_classes1 = full_model.predict(X_test)"
      ],
      "execution_count": 0,
      "outputs": []
    },
    {
      "cell_type": "code",
      "metadata": {
        "id": "mUdg2s9GvJg_",
        "colab_type": "code",
        "outputId": "1f6a28f5-550f-419b-f128-87084b851117",
        "colab": {
          "base_uri": "https://localhost:8080/",
          "height": 134
        }
      },
      "source": [
        "predicted_classes1"
      ],
      "execution_count": 0,
      "outputs": [
        {
          "output_type": "execute_result",
          "data": {
            "text/plain": [
              "array([[0., 0., 0., ..., 0., 0., 1.],\n",
              "       [0., 0., 1., ..., 0., 0., 0.],\n",
              "       [0., 1., 0., ..., 0., 0., 0.],\n",
              "       ...,\n",
              "       [0., 0., 0., ..., 0., 1., 0.],\n",
              "       [0., 1., 0., ..., 0., 0., 0.],\n",
              "       [0., 0., 0., ..., 0., 0., 0.]], dtype=float32)"
            ]
          },
          "metadata": {
            "tags": []
          },
          "execution_count": 73
        }
      ]
    },
    {
      "cell_type": "markdown",
      "metadata": {
        "id": "dEkmge5TwDlP",
        "colab_type": "text"
      },
      "source": [
        "We will use argmax() of numpy to return indices with 1"
      ]
    },
    {
      "cell_type": "code",
      "metadata": {
        "id": "n30rM69rvUWu",
        "colab_type": "code",
        "colab": {}
      },
      "source": [
        "predicted_classes = np.argmax(np.round(predicted_classes1),axis=1)"
      ],
      "execution_count": 0,
      "outputs": []
    },
    {
      "cell_type": "code",
      "metadata": {
        "id": "AvKjAl0evejC",
        "colab_type": "code",
        "outputId": "04956451-ce08-4cea-e4eb-d26d7d7f1c5c",
        "colab": {
          "base_uri": "https://localhost:8080/",
          "height": 34
        }
      },
      "source": [
        "predicted_classes"
      ],
      "execution_count": 0,
      "outputs": [
        {
          "output_type": "execute_result",
          "data": {
            "text/plain": [
              "array([9, 2, 1, ..., 8, 1, 5])"
            ]
          },
          "metadata": {
            "tags": []
          },
          "execution_count": 76
        }
      ]
    },
    {
      "cell_type": "code",
      "metadata": {
        "id": "48KI925-xnx1",
        "colab_type": "code",
        "outputId": "250ec23c-381a-4c0a-c5c9-e4f38c5c7e72",
        "colab": {
          "base_uri": "https://localhost:8080/",
          "height": 34
        }
      },
      "source": [
        "predicted_classes.shape, y_test.shape"
      ],
      "execution_count": 0,
      "outputs": [
        {
          "output_type": "execute_result",
          "data": {
            "text/plain": [
              "((10000,), (10000,))"
            ]
          },
          "metadata": {
            "tags": []
          },
          "execution_count": 81
        }
      ]
    },
    {
      "cell_type": "code",
      "metadata": {
        "id": "cK3QndBHzGI5",
        "colab_type": "code",
        "outputId": "e262626b-81c1-43e2-b687-710e0b0a6bfd",
        "colab": {
          "base_uri": "https://localhost:8080/",
          "height": 314
        }
      },
      "source": [
        "correct = np.where(predicted_classes==y_test)[0]\n",
        "print(\"Found %d correct labels\" % len(correct))\n",
        "for i, correct in enumerate(correct[:9]):\n",
        "    plt.subplot(3,3,i+1)\n",
        "    plt.imshow(X_test[correct].reshape(im_rows, im_cols), cmap='gray', interpolation='none')\n",
        "    plt.title(\"Pred {}, Name {}\".format(predicted_classes[correct], y_test[correct]))\n",
        "    plt.tight_layout()"
      ],
      "execution_count": 0,
      "outputs": [
        {
          "output_type": "stream",
          "text": [
            "Found 9287 correct labels\n"
          ],
          "name": "stdout"
        },
        {
          "output_type": "display_data",
          "data": {
            "image/png": "[encoded data removed]",
            "text/plain": [
              "<Figure size 432x288 with 9 Axes>"
            ]
          },
          "metadata": {
            "tags": []
          }
        }
      ]
    },
    {
      "cell_type": "code",
      "metadata": {
        "id": "etfj87882obr",
        "colab_type": "code",
        "outputId": "3d53e499-b96c-4224-8e6e-17f6499456d1",
        "colab": {
          "base_uri": "https://localhost:8080/",
          "height": 314
        }
      },
      "source": [
        "incorrect = np.where(predicted_classes!=y_test)[0]\n",
        "print(\"Found %d incorrect labels\" % len(incorrect))\n",
        "for i, incorrect in enumerate(incorrect[:9]):\n",
        "    plt.subplot(3,3,i+1)\n",
        "    plt.imshow(X_test[incorrect].reshape(im_rows, im_cols), cmap='gray', interpolation='none')\n",
        "    plt.title(\"Predicted {}, Class {}\".format(predicted_classes[incorrect], y_test[incorrect]))\n",
        "    plt.tight_layout()"
      ],
      "execution_count": 0,
      "outputs": [
        {
          "output_type": "stream",
          "text": [
            "Found 713 incorrect labels\n"
          ],
          "name": "stdout"
        },
        {
          "output_type": "display_data",
          "data": {
            "image/png": "[encoded data removed]",
            "text/plain": [
              "<Figure size 432x288 with 9 Axes>"
            ]
          },
          "metadata": {
            "tags": []
          }
        }
      ]
    },
    {
      "cell_type": "markdown",
      "metadata": {
        "id": "cwruGy2aOvkg",
        "colab_type": "text"
      },
      "source": [
        "**Classification Report**"
      ]
    },
    {
      "cell_type": "code",
      "metadata": {
        "id": "2ejPKpGNHjKc",
        "colab_type": "code",
        "colab": {}
      },
      "source": [
        "import pandas as pd"
      ],
      "execution_count": 0,
      "outputs": []
    },
    {
      "cell_type": "code",
      "metadata": {
        "id": "EJbNKV1i0nFl",
        "colab_type": "code",
        "colab": {}
      },
      "source": [
        "Label_Description={'0':\t'T-shirt/top','1':\t'Trouser','2':\t'Pullover','3':\t'Dress',\n",
        "                   '4':\t'Coat','5':\t'Sandal','6':  'Shirt',\n",
        "                   '7': 'Sneaker','8': 'Bag','9': 'Ankle boot'}"
      ],
      "execution_count": 0,
      "outputs": []
    },
    {
      "cell_type": "code",
      "metadata": {
        "id": "Dcw-WeepHuwZ",
        "colab_type": "code",
        "colab": {}
      },
      "source": [
        "Label_Name=pd.Series(Label_Description)"
      ],
      "execution_count": 0,
      "outputs": []
    },
    {
      "cell_type": "code",
      "metadata": {
        "id": "nbdKaMlrM6LM",
        "colab_type": "code",
        "outputId": "1e23b725-140a-4b4c-9ffe-57e7e12197b6",
        "colab": {
          "base_uri": "https://localhost:8080/",
          "height": 302
        }
      },
      "source": [
        "from sklearn.metrics import classification_report\n",
        "target_names = [Label_Name[i] for i in range(num_classes)]\n",
        "print(classification_report(y_test, predicted_classes, target_names=target_names))"
      ],
      "execution_count": 0,
      "outputs": [
        {
          "output_type": "stream",
          "text": [
            "              precision    recall  f1-score   support\n",
            "\n",
            " T-shirt/top       0.88      0.88      0.88      1000\n",
            "     Trouser       0.99      0.99      0.99      1000\n",
            "    Pullover       0.89      0.88      0.89      1000\n",
            "       Dress       0.94      0.92      0.93      1000\n",
            "        Coat       0.88      0.91      0.89      1000\n",
            "      Sandal       0.99      0.99      0.99      1000\n",
            "       Shirt       0.80      0.79      0.79      1000\n",
            "     Sneaker       0.97      0.97      0.97      1000\n",
            "         Bag       0.98      0.98      0.98      1000\n",
            "  Ankle boot       0.97      0.98      0.98      1000\n",
            "\n",
            "    accuracy                           0.93     10000\n",
            "   macro avg       0.93      0.93      0.93     10000\n",
            "weighted avg       0.93      0.93      0.93     10000\n",
            "\n"
          ],
          "name": "stdout"
        }
      ]
    },
    {
      "cell_type": "markdown",
      "metadata": {
        "id": "r3ohKvz_RVb1",
        "colab_type": "text"
      },
      "source": [
        "We see that the pants, sandals, bags, boots and sneakers are well classified, on the other hand the model worked moderately for the shirts."
      ]
    }
  ]
}