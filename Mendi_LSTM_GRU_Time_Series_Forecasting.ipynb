{
  "nbformat": 4,
  "nbformat_minor": 0,
  "metadata": {
    "colab": {
      "name": "Mendi_LSTM_GRU_Time Series Forecasting.ipynb",
      "provenance": [],
      "collapsed_sections": [],
      "include_colab_link": true
    },
    "kernelspec": {
      "name": "python3",
      "display_name": "Python 3"
    },
    "accelerator": "GPU"
  },
  "cells": [
    {
      "cell_type": "markdown",
      "metadata": {
        "id": "view-in-github",
        "colab_type": "text"
      },
      "source": [
        "<a href=\"https://colab.research.google.com/github/memed01/DataScienceAndBigData/blob/master/Mendi_LSTM_GRU_Time_Series_Forecasting.ipynb\" target=\"_parent\"><img src=\"https://colab.research.google.com/assets/colab-badge.svg\" alt=\"Open In Colab\"/></a>"
      ]
    },
    {
      "cell_type": "markdown",
      "metadata": {
        "id": "GSn4ZSV6VUtD",
        "colab_type": "text"
      },
      "source": [
        "### RNNs with Baseline, LSTM, GRU\n",
        "In this work, we will use sunspot data and apply 3 different RNN types and rank them in terms of performance, we will only use the functional API of Keras"
      ]
    },
    {
      "cell_type": "code",
      "metadata": {
        "id": "SO_j72ChU9f8",
        "colab_type": "code",
        "outputId": "8d68870c-fec3-4560-805d-a240bdd7b7e1",
        "colab": {
          "base_uri": "https://localhost:8080/",
          "height": 34
        }
      },
      "source": [
        "#%tensorflow_version 2.x"
      ],
      "execution_count": 0,
      "outputs": [
        {
          "output_type": "stream",
          "text": [
            "TensorFlow 2.x selected.\n"
          ],
          "name": "stdout"
        }
      ]
    },
    {
      "cell_type": "code",
      "metadata": {
        "id": "SQPQ3NSiVRMj",
        "colab_type": "code",
        "colab": {}
      },
      "source": [
        "import pandas as pd\n",
        "import numpy as np\n",
        "import tensorflow as tf\n",
        "import tensorflow.keras.backend as K\n",
        "import math\n",
        "\n",
        "from matplotlib import pyplot\n",
        "from pandas import read_csv\n",
        "from pandas import DataFrame\n",
        "from pandas import concat\n",
        "\n",
        "from math import sqrt\n",
        "from numpy import concatenate\n",
        "\n",
        "from sklearn.preprocessing import MinMaxScaler\n",
        "from sklearn.preprocessing import LabelEncoder\n",
        "from sklearn.metrics import mean_squared_error\n",
        "from keras.models import Sequential\n",
        "from keras.layers import Dense\n",
        "from keras.layers import LSTM, GRU\n",
        "from keras.callbacks import EarlyStopping\n",
        "\n",
        "from datetime import datetime"
      ],
      "execution_count": 0,
      "outputs": []
    },
    {
      "cell_type": "code",
      "metadata": {
        "id": "Q_8DfR9EVrzo",
        "colab_type": "code",
        "colab": {}
      },
      "source": [
        "# fix random seed for reproducibility\n",
        "np.random.seed(7)"
      ],
      "execution_count": 0,
      "outputs": []
    },
    {
      "cell_type": "markdown",
      "metadata": {
        "id": "9eN94CFXV0Ap",
        "colab_type": "text"
      },
      "source": [
        "1. Reading the data set, parsing the dates and inferring the date format to date time. We also fill the Nan’s with 0."
      ]
    },
    {
      "cell_type": "code",
      "metadata": {
        "id": "q7x5dynhV5Wc",
        "colab_type": "code",
        "outputId": "2f878788-ea5a-457a-e3e7-06d493673ac8",
        "colab": {
          "base_uri": "https://localhost:8080/",
          "height": 202
        }
      },
      "source": [
        "!wget https://storage.googleapis.com/nicksdemobucket/sunspots.csv"
      ],
      "execution_count": 0,
      "outputs": [
        {
          "output_type": "stream",
          "text": [
            "--2020-02-23 21:29:24--  https://storage.googleapis.com/nicksdemobucket/sunspots.csv\n",
            "Resolving storage.googleapis.com (storage.googleapis.com)... 172.217.194.128, 2404:6800:4003:c04::80\n",
            "Connecting to storage.googleapis.com (storage.googleapis.com)|172.217.194.128|:443... connected.\n",
            "HTTP request sent, awaiting response... 200 OK\n",
            "Length: 45039 (44K) [application/octet-stream]\n",
            "Saving to: ‘sunspots.csv.1’\n",
            "\n",
            "\rsunspots.csv.1        0%[                    ]       0  --.-KB/s               \rsunspots.csv.1      100%[===================>]  43.98K  --.-KB/s    in 0s      \n",
            "\n",
            "2020-02-23 21:29:25 (153 MB/s) - ‘sunspots.csv.1’ saved [45039/45039]\n",
            "\n"
          ],
          "name": "stdout"
        }
      ]
    },
    {
      "cell_type": "code",
      "metadata": {
        "id": "zxqY1MtTWGYG",
        "colab_type": "code",
        "colab": {}
      },
      "source": [
        "# load the dataset\n",
        "dataframe = pd.read_csv('sunspots.csv', engine='python')\n",
        "dataset=dataframe['Sunspots']\n",
        "dataset.index=dataframe['Month']"
      ],
      "execution_count": 0,
      "outputs": []
    },
    {
      "cell_type": "code",
      "metadata": {
        "id": "IlVIBMR1Xt_1",
        "colab_type": "code",
        "colab": {}
      },
      "source": [
        "from pandas.tseries.offsets import MonthEnd\n",
        "dataset.index = pd.to_datetime(dataset.index) + MonthEnd(1)\n",
        "\n",
        "dataset.fillna(0, inplace=True)\n",
        "values = dataset.values"
      ],
      "execution_count": 0,
      "outputs": []
    },
    {
      "cell_type": "code",
      "metadata": {
        "id": "rgX-XQcEYKfD",
        "colab_type": "code",
        "colab": {}
      },
      "source": [
        "# ensure all data is float\n",
        "values = values.astype('float32')"
      ],
      "execution_count": 0,
      "outputs": []
    },
    {
      "cell_type": "markdown",
      "metadata": {
        "id": "urW-gmj2YSY8",
        "colab_type": "text"
      },
      "source": [
        "Let's now take a glance at the data."
      ]
    },
    {
      "cell_type": "code",
      "metadata": {
        "id": "tDDNk47bYT5D",
        "colab_type": "code",
        "outputId": "80bbc176-149f-405d-b427-3eceeebc0079",
        "colab": {
          "base_uri": "https://localhost:8080/",
          "height": 235
        }
      },
      "source": [
        "dataset.tail"
      ],
      "execution_count": 0,
      "outputs": [
        {
          "output_type": "execute_result",
          "data": {
            "text/plain": [
              "<bound method NDFrame.tail of Month\n",
              "1749-01-31    58.0\n",
              "1749-02-28    62.6\n",
              "1749-03-31    70.0\n",
              "1749-04-30    55.7\n",
              "1749-05-31    85.0\n",
              "              ... \n",
              "1983-08-31    71.8\n",
              "1983-09-30    50.3\n",
              "1983-10-31    55.8\n",
              "1983-11-30    33.3\n",
              "1983-12-31    33.4\n",
              "Freq: M, Name: Sunspots, Length: 2820, dtype: float64>"
            ]
          },
          "metadata": {
            "tags": []
          },
          "execution_count": 7
        }
      ]
    },
    {
      "cell_type": "code",
      "metadata": {
        "id": "XRmRJNi3YpFm",
        "colab_type": "code",
        "outputId": "9a8295f9-d401-4a95-c162-df3434b941ca",
        "colab": {
          "base_uri": "https://localhost:8080/",
          "height": 302
        }
      },
      "source": [
        "dataset.plot(subplots=True)"
      ],
      "execution_count": 0,
      "outputs": [
        {
          "output_type": "execute_result",
          "data": {
            "text/plain": [
              "array([<matplotlib.axes._subplots.AxesSubplot object at 0x7ff08db70898>],\n",
              "      dtype=object)"
            ]
          },
          "metadata": {
            "tags": []
          },
          "execution_count": 8
        },
        {
          "output_type": "display_data",
          "data": {
            "image/png": "[encoded data removed]",
            "text/plain": [
              "<Figure size 432x288 with 1 Axes>"
            ]
          },
          "metadata": {
            "tags": []
          }
        }
      ]
    },
    {
      "cell_type": "markdown",
      "metadata": {
        "id": "5zn9VPxUY47u",
        "colab_type": "text"
      },
      "source": [
        "The DataFrame has 2820 rows, covering Monthly period from January, 2006 through December, 1983.\n",
        "\n",
        "Sunspots observation have been recorded everyday, the dataset covering Monthly mean total sunspot from January 2006 through December 1983. \n",
        "This means that for one year you will have 12 observations."
      ]
    },
    {
      "cell_type": "markdown",
      "metadata": {
        "id": "Gx_F3EWgW7jR",
        "colab_type": "text"
      },
      "source": [
        "### Baseline Predictions for Time Series Forecasting\n",
        "https://machinelearningmastery.com/persistence-time-series-forecasting-with-python/\n",
        "\n",
        "A **rolling forecast** scenario will be used, also called **walk-forward model validation**.\n",
        "\n",
        "Each time step of the test dataset will be walked one at a time. A model will be used to make a forecast for the time step, then the actual expected value from the test set will be taken and made available to the model for the forecast on the next time step."
      ]
    },
    {
      "cell_type": "markdown",
      "metadata": {
        "id": "rPeGcDjBr8pS",
        "colab_type": "text"
      },
      "source": [
        "#### Sliding Window\n",
        "\n",
        "Let us create a lagged dataframe with shift() function\n",
        "From a supervised learning perspective, the t-1 column is the input variable, or X, and the t+1 column is the output variable, or y."
      ]
    },
    {
      "cell_type": "code",
      "metadata": {
        "id": "uPOMWKt-rjkW",
        "colab_type": "code",
        "outputId": "fc130476-dcc0-4fba-e82a-1e901fad9fc2",
        "colab": {
          "base_uri": "https://localhost:8080/",
          "height": 118
        }
      },
      "source": [
        "# Create lagged dataset\n",
        "values = DataFrame(dataset.values)\n",
        "dataframe = concat([values.shift(1), values], axis=1)\n",
        "dataframe.columns = ['t-1', 't+1']\n",
        "print(dataframe.head(5))"
      ],
      "execution_count": 0,
      "outputs": [
        {
          "output_type": "stream",
          "text": [
            "    t-1   t+1\n",
            "0   NaN  58.0\n",
            "1  58.0  62.6\n",
            "2  62.6  70.0\n",
            "3  70.0  55.7\n",
            "4  55.7  85.0\n"
          ],
          "name": "stdout"
        }
      ]
    },
    {
      "cell_type": "code",
      "metadata": {
        "id": "5D4L4J3Bz4Kd",
        "colab_type": "code",
        "outputId": "5449d06e-3a35-4678-8f97-4c2330deb781",
        "colab": {
          "base_uri": "https://localhost:8080/",
          "height": 118
        }
      },
      "source": [
        "dataframe=dataframe.dropna(axis=0)\n",
        "print(dataframe.head(5))"
      ],
      "execution_count": 0,
      "outputs": [
        {
          "output_type": "stream",
          "text": [
            "    t-1   t+1\n",
            "1  58.0  62.6\n",
            "2  62.6  70.0\n",
            "3  70.0  55.7\n",
            "4  55.7  85.0\n",
            "5  85.0  83.5\n"
          ],
          "name": "stdout"
        }
      ]
    },
    {
      "cell_type": "code",
      "metadata": {
        "id": "0TL2RIdUuUzA",
        "colab_type": "code",
        "colab": {}
      },
      "source": [
        "# split into train and test sets\n",
        "X = dataframe.values\n",
        "train_size = int(len(X) * 0.80)\n",
        "train, test = X[1:train_size], X[train_size:]\n",
        "train_X, train_y = train[:,0], train[:,1]\n",
        "test_X, test_y = test[:,0], test[:,1]"
      ],
      "execution_count": 0,
      "outputs": []
    },
    {
      "cell_type": "code",
      "metadata": {
        "id": "zFFiMCfx0kYt",
        "colab_type": "code",
        "outputId": "ee6c52c5-d408-4ac3-baec-c5767a377ae2",
        "colab": {
          "base_uri": "https://localhost:8080/",
          "height": 34
        }
      },
      "source": [
        "train.shape,test.shape"
      ],
      "execution_count": 0,
      "outputs": [
        {
          "output_type": "execute_result",
          "data": {
            "text/plain": [
              "((2254, 2), (564, 2))"
            ]
          },
          "metadata": {
            "tags": []
          },
          "execution_count": 21
        }
      ]
    },
    {
      "cell_type": "code",
      "metadata": {
        "id": "7saP855z1FUC",
        "colab_type": "code",
        "colab": {}
      },
      "source": [
        "# persistence model\n",
        "def model_persistence(x):\n",
        "\treturn x"
      ],
      "execution_count": 0,
      "outputs": []
    },
    {
      "cell_type": "code",
      "metadata": {
        "id": "qLh-14cOG8bs",
        "colab_type": "code",
        "colab": {}
      },
      "source": [
        "\n",
        "#yhat = history[-1]\n",
        "#history = [x for x in train]"
      ],
      "execution_count": 0,
      "outputs": []
    },
    {
      "cell_type": "code",
      "metadata": {
        "colab_type": "code",
        "outputId": "a7e5bef7-197f-4e2f-c64e-e5eadc9dbe2e",
        "id": "5tFxi-eHEIig",
        "colab": {
          "base_uri": "https://localhost:8080/",
          "height": 282
        }
      },
      "source": [
        "# walk-forward validation\n",
        "predictions = list()\n",
        "for x in test_X:\n",
        "\tyhat = model_persistence(x)\n",
        "\tpredictions.append(yhat)\n",
        "test_score = mean_squared_error(test_y, predictions)\n",
        "\n",
        "# line plot of observed vs predicted\n",
        "print('Test MSE: %.3f' % test_score)\n",
        "pyplot.plot(test,'r+')\n",
        "pyplot.plot(predictions,'b')\n",
        "pyplot.show()"
      ],
      "execution_count": 0,
      "outputs": [
        {
          "output_type": "stream",
          "text": [
            "Test MSE: 403.636\n"
          ],
          "name": "stdout"
        },
        {
          "output_type": "display_data",
          "data": {
            "image/png": "[encoded data removed]",
            "text/plain": [
              "<Figure size 432x288 with 1 Axes>"
            ]
          },
          "metadata": {
            "tags": []
          }
        }
      ]
    },
    {
      "cell_type": "code",
      "metadata": {
        "id": "voGcp_Sm1rdK",
        "colab_type": "code",
        "colab": {}
      },
      "source": [
        "# plot predictions and expected results\n",
        "#pyplot.plot(train_y)\n",
        "#pyplot.plot([None for i in train_y] + [x for x in test_y])\n",
        "#pyplot.plot([None for i in train_y] + [x for x in predictions])\n",
        "#pyplot.show()\n"
      ],
      "execution_count": 0,
      "outputs": []
    },
    {
      "cell_type": "markdown",
      "metadata": {
        "id": "xiwaRrP68ULl",
        "colab_type": "text"
      },
      "source": [
        "## LSTM Data Preparation\n",
        "### Transform Time Series to Stationary"
      ]
    },
    {
      "cell_type": "code",
      "metadata": {
        "id": "aEzEUrmE_bY4",
        "colab_type": "code",
        "colab": {}
      },
      "source": [
        "# frame a sequence as a supervised learning problem\n",
        "def timeseries_to_supervised(data, lag=1):\n",
        "\tdf = DataFrame(data)\n",
        "\tcolumns = [df.shift(i) for i in range(1, lag+1)]\n",
        "\tcolumns.append(df)\n",
        "\tdf = concat(columns, axis=1)\n",
        "\tdf.fillna(0, inplace=True)\n",
        "\treturn df"
      ],
      "execution_count": 0,
      "outputs": []
    },
    {
      "cell_type": "code",
      "metadata": {
        "id": "4914q1U58TUu",
        "colab_type": "code",
        "outputId": "e6430820-de36-415c-af2e-6b568b7be1f5",
        "colab": {
          "base_uri": "https://localhost:8080/",
          "height": 118
        }
      },
      "source": [
        "# transform to supervised learning\n",
        "X = dataset.values\n",
        "supervised = timeseries_to_supervised(X, 1)\n",
        "print(supervised.head())"
      ],
      "execution_count": 0,
      "outputs": [
        {
          "output_type": "stream",
          "text": [
            "      0     0\n",
            "0   0.0  58.0\n",
            "1  58.0  62.6\n",
            "2  62.6  70.0\n",
            "3  70.0  55.7\n",
            "4  55.7  85.0\n"
          ],
          "name": "stdout"
        }
      ]
    },
    {
      "cell_type": "markdown",
      "metadata": {
        "id": "wg3Yj8EmB05J",
        "colab_type": "text"
      },
      "source": [
        "With Series() function of pandas, let us remove a trend by differencing the data. That is the observation from the previous time step (t-1) is subtracted from the current observation (t)."
      ]
    },
    {
      "cell_type": "code",
      "metadata": {
        "id": "kK63k5BH1OBu",
        "colab_type": "code",
        "colab": {}
      },
      "source": [
        "from pandas import Series"
      ],
      "execution_count": 0,
      "outputs": []
    },
    {
      "cell_type": "code",
      "metadata": {
        "id": "yvmclMB81EXO",
        "colab_type": "code",
        "colab": {}
      },
      "source": [
        "# create a differenced series\n",
        "def difference(dataset, interval=1):\n",
        "\tdiff = list()\n",
        "\tfor i in range(interval, len(dataset)):\n",
        "\t\tvalue = dataset[i] - dataset[i - interval]\n",
        "\t\tdiff.append(value)\n",
        "\treturn Series(diff)"
      ],
      "execution_count": 0,
      "outputs": []
    },
    {
      "cell_type": "code",
      "metadata": {
        "id": "U6V3ZXDg3W2i",
        "colab_type": "code",
        "outputId": "ebda4cba-87bd-4877-86b5-e25160919185",
        "colab": {
          "base_uri": "https://localhost:8080/",
          "height": 118
        }
      },
      "source": [
        "# transform to be stationary\n",
        "differenced = difference(dataset, 1)\n",
        "print(differenced.head())"
      ],
      "execution_count": 0,
      "outputs": [
        {
          "output_type": "stream",
          "text": [
            "0     4.6\n",
            "1     7.4\n",
            "2   -14.3\n",
            "3    29.3\n",
            "4    -1.5\n",
            "dtype: float64\n"
          ],
          "name": "stdout"
        }
      ]
    },
    {
      "cell_type": "code",
      "metadata": {
        "id": "pLPOkU6828L6",
        "colab_type": "code",
        "colab": {}
      },
      "source": [
        "# invert differenced value\n",
        "def inverse_difference(history, yhat, interval=1):\n",
        "\treturn yhat + history[-interval]"
      ],
      "execution_count": 0,
      "outputs": []
    },
    {
      "cell_type": "code",
      "metadata": {
        "id": "PADCv7gP45lP",
        "colab_type": "code",
        "colab": {}
      },
      "source": [
        "# scale train and test data to [-1, 1]\n",
        "def scale(train, test):\n",
        "\t# fit scaler\n",
        "\tscaler = MinMaxScaler(feature_range=(-1, 1))\n",
        "\tscaler = scaler.fit(train)\n",
        "\t# transform train\n",
        "\ttrain = train.reshape(train.shape[0], train.shape[1])\n",
        "\ttrain_scaled = scaler.transform(train)\n",
        "\t# transform test\n",
        "\ttest = test.reshape(test.shape[0], test.shape[1])\n",
        "\ttest_scaled = scaler.transform(test)\n",
        "\treturn scaler, train_scaled, test_scaled"
      ],
      "execution_count": 0,
      "outputs": []
    },
    {
      "cell_type": "code",
      "metadata": {
        "id": "NM2fKcVC5q_n",
        "colab_type": "code",
        "colab": {}
      },
      "source": [
        "# inverse scaling for a forecasted value\n",
        "def invert_scale(scaler, X, value):\n",
        "\tnew_row = [x for x in X] + [value]\n",
        "\tarray = np.array(new_row)\n",
        "\tarray = array.reshape(1, len(array))\n",
        "\tinverted = scaler.inverse_transform(array)\n",
        "\treturn inverted[0, -1]"
      ],
      "execution_count": 0,
      "outputs": []
    },
    {
      "cell_type": "markdown",
      "metadata": {
        "id": "fDp7FCkmf-A8",
        "colab_type": "text"
      },
      "source": [
        "The LSTM network expects the input data (X) to be provided with a specific array structure in the form of: [samples, time steps, features]."
      ]
    },
    {
      "cell_type": "code",
      "metadata": {
        "id": "EHAAqDNU5879",
        "colab_type": "code",
        "colab": {}
      },
      "source": [
        "# fit LSTM network to training data\n",
        "def fit_network(train, batch_size, nb_epoch, neurons):\n",
        "    X, y = train[:, 0:-1],train[:, -1]\n",
        "    X = X.reshape(X.shape[0], 1, X.shape[1])\n",
        "    visible=tf.keras.layers.Input(batch_input_shape=(batch_size, X.shape[1], X.shape[2]))\n",
        "    outputs=tf.keras.layers.LSTM(neurons, return_sequences=True)(visible)\n",
        "    outputs=tf.keras.layers.BatchNormalization()(outputs)\n",
        "    outputs=tf.keras.layers.LSTM(neurons, return_sequences=True)(outputs)\n",
        "    outputs=tf.keras.layers.Dense(1)(outputs)\n",
        "\n",
        "    model1 = tf.keras.Model(inputs=visible, outputs=outputs)\n",
        "    model1.compile(loss=\"mse\", optimizer=\"adam\")\n",
        "    for i in range(nb_epoch):\n",
        "        model1.fit(X, y, \n",
        "                   epochs=1, \n",
        "                   batch_size=batch_size,\n",
        "                   verbose=1,\n",
        "                  # callbacks=[early_stop], \n",
        "                   shuffle=False)\n",
        "        model1.reset_states()\n",
        "    return model1"
      ],
      "execution_count": 0,
      "outputs": []
    },
    {
      "cell_type": "code",
      "metadata": {
        "id": "e5Myy01cAkk5",
        "colab_type": "code",
        "colab": {}
      },
      "source": [
        "# make a one-step forecast\n",
        "def forecast_network(model, batch_size, X):\n",
        "\tX = X.reshape(1, 1, len(X))\n",
        "\tyhat = model.predict(X, batch_size=batch_size)\n",
        "\treturn yhat[0,0]"
      ],
      "execution_count": 0,
      "outputs": []
    },
    {
      "cell_type": "code",
      "metadata": {
        "id": "Vqu0UdKHA2BO",
        "colab_type": "code",
        "colab": {}
      },
      "source": [
        "# transform data to be stationary\n",
        "raw_values = dataset.values\n",
        "diff_values = difference(raw_values, 1)"
      ],
      "execution_count": 0,
      "outputs": []
    },
    {
      "cell_type": "code",
      "metadata": {
        "id": "ntSZV5ZgBDmh",
        "colab_type": "code",
        "colab": {}
      },
      "source": [
        "# transform data to be supervised learning\n",
        "supervised = timeseries_to_supervised(diff_values, 1)\n",
        "supervised_values = supervised.values"
      ],
      "execution_count": 0,
      "outputs": []
    },
    {
      "cell_type": "code",
      "metadata": {
        "id": "YnHbIfXEBPn2",
        "colab_type": "code",
        "colab": {}
      },
      "source": [
        "# split data into train and test-sets\n",
        "train_size = int(len(supervised_values) * 0.80)\n",
        "train, test = supervised_values[-train_size:], supervised_values[0:-train_size]"
      ],
      "execution_count": 0,
      "outputs": []
    },
    {
      "cell_type": "code",
      "metadata": {
        "id": "pYCRdNTRCeRN",
        "colab_type": "code",
        "outputId": "3bfa851a-15bd-4841-dd8b-98a4b5dbfe59",
        "colab": {
          "base_uri": "https://localhost:8080/",
          "height": 34
        }
      },
      "source": [
        "train.shape,test.shape"
      ],
      "execution_count": 0,
      "outputs": [
        {
          "output_type": "execute_result",
          "data": {
            "text/plain": [
              "((2255, 2), (564, 2))"
            ]
          },
          "metadata": {
            "tags": []
          },
          "execution_count": 81
        }
      ]
    },
    {
      "cell_type": "code",
      "metadata": {
        "id": "7jwd1svLCsYK",
        "colab_type": "code",
        "colab": {}
      },
      "source": [
        "# transform the scale of the data\n",
        "scaler, train_scaled, test_scaled = scale(train, test)"
      ],
      "execution_count": 0,
      "outputs": []
    },
    {
      "cell_type": "code",
      "metadata": {
        "id": "V9gHTxGBEj8I",
        "colab_type": "code",
        "outputId": "6748f7e9-1b25-45ba-eb9e-57813020e679",
        "colab": {
          "base_uri": "https://localhost:8080/",
          "height": 1000
        }
      },
      "source": [
        "repeat=10\n",
        "for r in range(repeat):\n",
        "    error_scores = list()\n",
        "    # fit the model\n",
        "    lstm_model = fit_lstm(train_scaled, 1, 5, 20)\n",
        "      # forecast the entire training dataset to build up state for forecasting\n",
        "    train_reshaped = train_scaled[:, 0].reshape(len(train_scaled), 1, 1)\n",
        "    lstm_model.predict(train_reshaped, batch_size=1)\n",
        "    # walk-forward validation on the test data\n",
        "    predictions = list()\n",
        "    for i in range(len(test_scaled)):\n",
        "      # make one-step forecast\n",
        "      X, y = test_scaled[i, 0:-1], test_scaled[i, -1]\n",
        "      yhat = forecast_network(lstm_model, 1, X)\n",
        "      # invert scaling\n",
        "      yhat = invert_scale(scaler, X, yhat)\n",
        "      # invert differencing\n",
        "      yhat = inverse_difference(raw_values, yhat, len(test_scaled)+1-i)\n",
        "      # store forecast\n",
        "      predictions.append(yhat)\n",
        "    # report performance\n",
        "    rmse = sqrt(mean_squared_error(raw_values[(train_size+1):], predictions))\n",
        "    print('%d) Test RMSE: %.3f' % (r+1, rmse))\n",
        "    error_scores.append(rmse)\n",
        " \n",
        "# line plot of observed vs predicted\n",
        "pyplot.plot(raw_values[(train_size+1):])\n",
        "pyplot.plot(predictions)\n",
        "pyplot.show()\n",
        "\n",
        "# summarize results\n",
        "results = DataFrame()\n",
        "results['rmse'] = error_scores\n",
        "print(results.describe())\n",
        "results.boxplot()\n",
        "pyplot.show()"
      ],
      "execution_count": 0,
      "outputs": [
        {
          "output_type": "stream",
          "text": [
            "Train on 2255 samples\n",
            "2255/2255 [==============================] - 14s 6ms/sample - loss: 0.0388\n",
            "Train on 2255 samples\n",
            "2255/2255 [==============================] - 12s 5ms/sample - loss: 0.0387\n",
            "Train on 2255 samples\n",
            "2255/2255 [==============================] - 11s 5ms/sample - loss: 0.0386\n",
            "Train on 2255 samples\n",
            "2255/2255 [==============================] - 12s 5ms/sample - loss: 0.0386\n",
            "Train on 2255 samples\n",
            "2255/2255 [==============================] - 12s 5ms/sample - loss: 0.0386\n",
            "1) Test RMSE: 24.397\n",
            "Train on 2255 samples\n",
            "2255/2255 [==============================] - 14s 6ms/sample - loss: 0.0388\n",
            "Train on 2255 samples\n",
            "2255/2255 [==============================] - 12s 5ms/sample - loss: 0.0386\n",
            "Train on 2255 samples\n",
            "2255/2255 [==============================] - 12s 5ms/sample - loss: 0.0386\n",
            "Train on 2255 samples\n",
            "2255/2255 [==============================] - 12s 5ms/sample - loss: 0.0386\n",
            "Train on 2255 samples\n",
            "2255/2255 [==============================] - 12s 5ms/sample - loss: 0.0386\n",
            "2) Test RMSE: 24.153\n",
            "Train on 2255 samples\n",
            "2255/2255 [==============================] - 14s 6ms/sample - loss: 0.0388\n",
            "Train on 2255 samples\n",
            "2255/2255 [==============================] - 11s 5ms/sample - loss: 0.0387\n",
            "Train on 2255 samples\n",
            "2255/2255 [==============================] - 12s 5ms/sample - loss: 0.0386\n",
            "Train on 2255 samples\n",
            "2255/2255 [==============================] - 12s 5ms/sample - loss: 0.0386\n",
            "Train on 2255 samples\n",
            "2255/2255 [==============================] - 12s 5ms/sample - loss: 0.0386\n",
            "3) Test RMSE: 20.087\n",
            "Train on 2255 samples\n",
            "2255/2255 [==============================] - 15s 7ms/sample - loss: 0.0388\n",
            "Train on 2255 samples\n",
            "2255/2255 [==============================] - 12s 5ms/sample - loss: 0.0386\n",
            "Train on 2255 samples\n",
            "2255/2255 [==============================] - 12s 5ms/sample - loss: 0.0386\n",
            "Train on 2255 samples\n",
            "2255/2255 [==============================] - 11s 5ms/sample - loss: 0.0386\n",
            "Train on 2255 samples\n",
            "2255/2255 [==============================] - 11s 5ms/sample - loss: 0.0386\n",
            "4) Test RMSE: 20.341\n",
            "Train on 2255 samples\n",
            "2255/2255 [==============================] - 15s 7ms/sample - loss: 0.0388\n",
            "Train on 2255 samples\n",
            "2255/2255 [==============================] - 12s 5ms/sample - loss: 0.0387\n",
            "Train on 2255 samples\n",
            "2255/2255 [==============================] - 12s 5ms/sample - loss: 0.0386\n",
            "Train on 2255 samples\n",
            "2255/2255 [==============================] - 11s 5ms/sample - loss: 0.0386\n",
            "Train on 2255 samples\n",
            "2255/2255 [==============================] - 12s 5ms/sample - loss: 0.0386\n",
            "5) Test RMSE: 21.356\n",
            "Train on 2255 samples\n",
            "2255/2255 [==============================] - 16s 7ms/sample - loss: 0.0388\n",
            "Train on 2255 samples\n",
            "2255/2255 [==============================] - 12s 5ms/sample - loss: 0.0386\n",
            "Train on 2255 samples\n",
            "2255/2255 [==============================] - 12s 5ms/sample - loss: 0.0386\n",
            "Train on 2255 samples\n",
            "2255/2255 [==============================] - 12s 5ms/sample - loss: 0.0386\n",
            "Train on 2255 samples\n",
            "2255/2255 [==============================] - 12s 5ms/sample - loss: 0.0386\n",
            "6) Test RMSE: 20.550\n",
            "Train on 2255 samples\n",
            "2255/2255 [==============================] - 16s 7ms/sample - loss: 0.0388\n",
            "Train on 2255 samples\n",
            "2255/2255 [==============================] - 12s 5ms/sample - loss: 0.0387\n",
            "Train on 2255 samples\n",
            "2255/2255 [==============================] - 12s 5ms/sample - loss: 0.0386\n",
            "Train on 2255 samples\n",
            "2255/2255 [==============================] - 12s 5ms/sample - loss: 0.0386\n",
            "Train on 2255 samples\n",
            "2255/2255 [==============================] - 12s 5ms/sample - loss: 0.0386\n",
            "7) Test RMSE: 20.394\n",
            "Train on 2255 samples\n",
            "2255/2255 [==============================] - 16s 7ms/sample - loss: 0.0388\n",
            "Train on 2255 samples\n",
            "2255/2255 [==============================] - 12s 5ms/sample - loss: 0.0386\n",
            "Train on 2255 samples\n",
            "2255/2255 [==============================] - 12s 5ms/sample - loss: 0.0386\n",
            "Train on 2255 samples\n",
            "2255/2255 [==============================] - 12s 5ms/sample - loss: 0.0386\n",
            "Train on 2255 samples\n",
            "2255/2255 [==============================] - 12s 5ms/sample - loss: 0.0386\n",
            "8) Test RMSE: 21.217\n",
            "Train on 2255 samples\n",
            "2255/2255 [==============================] - 16s 7ms/sample - loss: 0.0388\n",
            "Train on 2255 samples\n",
            "2255/2255 [==============================] - 12s 6ms/sample - loss: 0.0387\n",
            "Train on 2255 samples\n",
            "2255/2255 [==============================] - 13s 6ms/sample - loss: 0.0386\n",
            "Train on 2255 samples\n",
            "2255/2255 [==============================] - 13s 6ms/sample - loss: 0.0386\n",
            "Train on 2255 samples\n",
            "2255/2255 [==============================] - 12s 5ms/sample - loss: 0.0386\n",
            "9) Test RMSE: 22.537\n",
            "Train on 2255 samples\n",
            "2255/2255 [==============================] - 17s 8ms/sample - loss: 0.0388\n",
            "Train on 2255 samples\n",
            "2255/2255 [==============================] - 13s 6ms/sample - loss: 0.0387\n",
            "Train on 2255 samples\n",
            "2255/2255 [==============================] - 13s 6ms/sample - loss: 0.0386\n",
            "Train on 2255 samples\n",
            "2255/2255 [==============================] - 13s 6ms/sample - loss: 0.0386\n",
            "Train on 2255 samples\n",
            "2255/2255 [==============================] - 13s 6ms/sample - loss: 0.0386\n",
            "10) Test RMSE: 21.536\n"
          ],
          "name": "stdout"
        },
        {
          "output_type": "display_data",
          "data": {
            "image/png": "[encoded data removed]",
            "text/plain": [
              "<Figure size 432x288 with 1 Axes>"
            ]
          },
          "metadata": {
            "tags": []
          }
        },
        {
          "output_type": "stream",
          "text": [
            "            rmse\n",
            "count   1.000000\n",
            "mean   21.536007\n",
            "std          NaN\n",
            "min    21.536007\n",
            "25%    21.536007\n",
            "50%    21.536007\n",
            "75%    21.536007\n",
            "max    21.536007\n"
          ],
          "name": "stdout"
        },
        {
          "output_type": "display_data",
          "data": {
            "image/png": "[encoded data removed]",
            "text/plain": [
              "<Figure size 432x288 with 1 Axes>"
            ]
          },
          "metadata": {
            "tags": []
          }
        }
      ]
    },
    {
      "cell_type": "markdown",
      "metadata": {
        "id": "YDFTArv6p8Uz",
        "colab_type": "text"
      },
      "source": [
        "### GRUs Network"
      ]
    },
    {
      "cell_type": "code",
      "metadata": {
        "id": "0IFjnGCYk62p",
        "colab_type": "code",
        "colab": {}
      },
      "source": [
        "# fit an GRU network to training data\n",
        "def fit_gru(train, batch_size, nb_epoch, neurons):\n",
        "    X, y = train[:, 0:-1],train[:, -1]\n",
        "    X = X.reshape(X.shape[0], 1, X.shape[1])\n",
        "    visible=tf.keras.layers.Input(batch_input_shape=(batch_size, X.shape[1], X.shape[2]))\n",
        "    outputs=tf.keras.layers.GRU(neurons, return_sequences=True)(visible)\n",
        "    outputs=tf.keras.layers.BatchNormalization()(outputs)\n",
        "    outputs=tf.keras.layers.GRU(neurons, return_sequences=True)(outputs)\n",
        "    outputs=tf.keras.layers.Dense(1)(outputs)\n",
        "\n",
        "    model1 = tf.keras.Model(inputs=visible, outputs=outputs)\n",
        "    model1.compile(loss=\"mse\", optimizer=\"adam\")\n",
        "    for i in range(nb_epoch):\n",
        "        model1.fit(X, y, \n",
        "                   epochs=1, \n",
        "                   batch_size=batch_size,\n",
        "                   verbose=1,\n",
        "                  # callbacks=[early_stop], \n",
        "                   shuffle=False)\n",
        "        model1.reset_states()\n",
        "    return model1"
      ],
      "execution_count": 0,
      "outputs": []
    },
    {
      "cell_type": "code",
      "metadata": {
        "id": "CuIYqA-rp35i",
        "colab_type": "code",
        "outputId": "599aa032-290d-4615-dcb7-e5e32b5cda45",
        "colab": {
          "base_uri": "https://localhost:8080/",
          "height": 1000
        }
      },
      "source": [
        "K.clear_session()\n",
        "repeat=10\n",
        "for r in range(repeat):\n",
        "    error_scores = list()\n",
        "    # fit the model\n",
        "    gru_model = fit_gru(train_scaled, 1, 5, 20)\n",
        "      # forecast the entire training dataset to build up state for forecasting\n",
        "    train_reshaped = train_scaled[:, 0].reshape(len(train_scaled), 1, 1)\n",
        "    gru_model.predict(train_reshaped, batch_size=1)\n",
        "    # walk-forward validation on the test data\n",
        "    predictions = list()\n",
        "    for i in range(len(test_scaled)):\n",
        "      # make one-step forecast\n",
        "      X, y = test_scaled[i, 0:-1], test_scaled[i, -1]\n",
        "      yhat = forecast_network(gru_model, 1, X)\n",
        "      # invert scaling\n",
        "      yhat = invert_scale(scaler, X, yhat)\n",
        "      # invert differencing\n",
        "      yhat = inverse_difference(raw_values, yhat, len(test_scaled)+1-i)\n",
        "      # store forecast\n",
        "      predictions.append(yhat)\n",
        "    # report performance\n",
        "    rmse = sqrt(mean_squared_error(raw_values[(train_size+1):], predictions))\n",
        "    print('%d) Test RMSE: %.3f' % (r+1, rmse))\n",
        "    error_scores.append(rmse)\n",
        "    \n",
        "# line plot of observed vs predicted\n",
        "pyplot.plot(raw_values[(train_size+1):])\n",
        "pyplot.plot(predictions)\n",
        "pyplot.show()\n",
        "\n",
        "# summarize results\n",
        "results = DataFrame()\n",
        "results['rmse'] = error_scores\n",
        "print(results.describe())\n",
        "results.boxplot()\n",
        "pyplot.show()"
      ],
      "execution_count": 0,
      "outputs": [
        {
          "output_type": "stream",
          "text": [
            "Train on 2255 samples\n",
            "2255/2255 [==============================] - 12s 5ms/sample - loss: 0.0388\n",
            "Train on 2255 samples\n",
            "2255/2255 [==============================] - 11s 5ms/sample - loss: 0.0387\n",
            "Train on 2255 samples\n",
            "2255/2255 [==============================] - 11s 5ms/sample - loss: 0.0386\n",
            "Train on 2255 samples\n",
            "2255/2255 [==============================] - 11s 5ms/sample - loss: 0.0386\n",
            "Train on 2255 samples\n",
            "2255/2255 [==============================] - 11s 5ms/sample - loss: 0.0386\n",
            "1) Test RMSE: 21.446\n",
            "Train on 2255 samples\n",
            "2255/2255 [==============================] - 12s 5ms/sample - loss: 0.0388\n",
            "Train on 2255 samples\n",
            "2255/2255 [==============================] - 11s 5ms/sample - loss: 0.0387\n",
            "Train on 2255 samples\n",
            "2255/2255 [==============================] - 11s 5ms/sample - loss: 0.0386\n",
            "Train on 2255 samples\n",
            "2255/2255 [==============================] - 12s 5ms/sample - loss: 0.0386\n",
            "Train on 2255 samples\n",
            "2255/2255 [==============================] - 11s 5ms/sample - loss: 0.0386\n",
            "2) Test RMSE: 19.981\n",
            "Train on 2255 samples\n",
            "2255/2255 [==============================] - 12s 5ms/sample - loss: 0.0388\n",
            "Train on 2255 samples\n",
            "2255/2255 [==============================] - 12s 5ms/sample - loss: 0.0387\n",
            "Train on 2255 samples\n",
            "2255/2255 [==============================] - 12s 5ms/sample - loss: 0.0386\n",
            "Train on 2255 samples\n",
            "2255/2255 [==============================] - 11s 5ms/sample - loss: 0.0386\n",
            "Train on 2255 samples\n",
            "2255/2255 [==============================] - 12s 5ms/sample - loss: 0.0386\n",
            "3) Test RMSE: 22.504\n",
            "Train on 2255 samples\n",
            "2255/2255 [==============================] - 12s 5ms/sample - loss: 0.0388\n",
            "Train on 2255 samples\n",
            "2255/2255 [==============================] - 11s 5ms/sample - loss: 0.0386\n",
            "Train on 2255 samples\n",
            "2255/2255 [==============================] - 12s 5ms/sample - loss: 0.0386\n",
            "Train on 2255 samples\n",
            "2255/2255 [==============================] - 12s 5ms/sample - loss: 0.0386\n",
            "Train on 2255 samples\n",
            "2255/2255 [==============================] - 12s 5ms/sample - loss: 0.0386\n",
            "4) Test RMSE: 20.124\n",
            "Train on 2255 samples\n",
            "2255/2255 [==============================] - 14s 6ms/sample - loss: 0.0388\n",
            "Train on 2255 samples\n",
            "2255/2255 [==============================] - 12s 5ms/sample - loss: 0.0387\n",
            "Train on 2255 samples\n",
            "2255/2255 [==============================] - 12s 5ms/sample - loss: 0.0386\n",
            "Train on 2255 samples\n",
            "2255/2255 [==============================] - 12s 5ms/sample - loss: 0.0386\n",
            "Train on 2255 samples\n",
            "2255/2255 [==============================] - 12s 5ms/sample - loss: 0.0386\n",
            "5) Test RMSE: 20.120\n",
            "Train on 2255 samples\n",
            "2255/2255 [==============================] - 13s 6ms/sample - loss: 0.0388\n",
            "Train on 2255 samples\n",
            "2255/2255 [==============================] - 12s 5ms/sample - loss: 0.0386\n",
            "Train on 2255 samples\n",
            "2255/2255 [==============================] - 12s 5ms/sample - loss: 0.0386\n",
            "Train on 2255 samples\n",
            "2255/2255 [==============================] - 12s 5ms/sample - loss: 0.0386\n",
            "Train on 2255 samples\n",
            "2255/2255 [==============================] - 12s 5ms/sample - loss: 0.0386\n",
            "6) Test RMSE: 22.468\n",
            "Train on 2255 samples\n",
            "2255/2255 [==============================] - 13s 6ms/sample - loss: 0.0388\n",
            "Train on 2255 samples\n",
            "2255/2255 [==============================] - 12s 5ms/sample - loss: 0.0387\n",
            "Train on 2255 samples\n",
            "2255/2255 [==============================] - 12s 5ms/sample - loss: 0.0386\n",
            "Train on 2255 samples\n",
            "2255/2255 [==============================] - 11s 5ms/sample - loss: 0.0386\n",
            "Train on 2255 samples\n",
            "2255/2255 [==============================] - 12s 5ms/sample - loss: 0.0386\n",
            "7) Test RMSE: 21.168\n",
            "Train on 2255 samples\n",
            "2255/2255 [==============================] - 14s 6ms/sample - loss: 0.0388\n",
            "Train on 2255 samples\n",
            "2255/2255 [==============================] - 12s 5ms/sample - loss: 0.0387\n",
            "Train on 2255 samples\n",
            "2255/2255 [==============================] - 12s 5ms/sample - loss: 0.0386\n",
            "Train on 2255 samples\n",
            "2255/2255 [==============================] - 12s 5ms/sample - loss: 0.0386\n",
            "Train on 2255 samples\n",
            "2255/2255 [==============================] - 12s 5ms/sample - loss: 0.0386\n",
            "8) Test RMSE: 21.410\n",
            "Train on 2255 samples\n",
            "2255/2255 [==============================] - 14s 6ms/sample - loss: 0.0388\n",
            "Train on 2255 samples\n",
            "2255/2255 [==============================] - 11s 5ms/sample - loss: 0.0387\n",
            "Train on 2255 samples\n",
            "2255/2255 [==============================] - 11s 5ms/sample - loss: 0.0386\n",
            "Train on 2255 samples\n",
            "2255/2255 [==============================] - 12s 5ms/sample - loss: 0.0386\n",
            "Train on 2255 samples\n",
            "2255/2255 [==============================] - 12s 5ms/sample - loss: 0.0386\n",
            "9) Test RMSE: 22.924\n",
            "Train on 2255 samples\n",
            "2255/2255 [==============================] - 14s 6ms/sample - loss: 0.0388\n",
            "Train on 2255 samples\n",
            "2255/2255 [==============================] - 12s 5ms/sample - loss: 0.0387\n",
            "Train on 2255 samples\n",
            "2255/2255 [==============================] - 12s 5ms/sample - loss: 0.0386\n",
            "Train on 2255 samples\n",
            "2255/2255 [==============================] - 12s 5ms/sample - loss: 0.0386\n",
            "Train on 2255 samples\n",
            "2255/2255 [==============================] - 12s 5ms/sample - loss: 0.0386\n",
            "10) Test RMSE: 22.456\n"
          ],
          "name": "stdout"
        },
        {
          "output_type": "display_data",
          "data": {
            "image/png": "[encoded data removed]",
            "text/plain": [
              "<Figure size 432x288 with 1 Axes>"
            ]
          },
          "metadata": {
            "tags": []
          }
        },
        {
          "output_type": "stream",
          "text": [
            "            rmse\n",
            "count   1.000000\n",
            "mean   22.455632\n",
            "std          NaN\n",
            "min    22.455632\n",
            "25%    22.455632\n",
            "50%    22.455632\n",
            "75%    22.455632\n",
            "max    22.455632\n"
          ],
          "name": "stdout"
        },
        {
          "output_type": "display_data",
          "data": {
            "image/png": "[encoded data removed]",
            "text/plain": [
              "<Figure size 432x288 with 1 Axes>"
            ]
          },
          "metadata": {
            "tags": []
          }
        }
      ]
    },
    {
      "cell_type": "markdown",
      "metadata": {
        "id": "WOLgY8k_4B1a",
        "colab_type": "text"
      },
      "source": [
        "Results can be summarize:\n",
        "1. **Baseline** Test MSE: 403.636\n",
        "2. **LSTM** Test MSE: 21.54\n",
        "3. **GRUs** Test MSE: 22.46\n",
        "\n"
      ]
    },
    {
      "cell_type": "markdown",
      "metadata": {
        "id": "iV22IKxR_-mb",
        "colab_type": "text"
      },
      "source": [
        "Predictions with LSTM Network give better score"
      ]
    }
  ]
}